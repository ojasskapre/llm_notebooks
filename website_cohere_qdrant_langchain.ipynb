{
 "cells": [
  {
   "attachments": {},
   "cell_type": "markdown",
   "metadata": {},
   "source": [
    "The main objectives of this notebook are:\n",
    "\n",
    "1. Loading webpages from a specific domain.\n",
    "2. Embedding the webpage content using Cohere.\n",
    "3. Storing the resulting vectors in the Qdrant vector database.\n",
    "4. Retrieving documents similar to a given query.\n",
    "5. Generating output for the query based on the retrieved documents using Cohere.\n",
    "\n",
    "<br>\n",
    "\n",
    "This is the basic workflow\n",
    "![workflow](images/website_qa.png)\n",
    "\n",
    "<br>\n",
    "Before running this notebook, make sure the Qdrant docker image is running\n",
    "\n",
    "1. Make sure that Docker daemon is installed and running:\n",
    "    ```\n",
    "    sudo docker info\n",
    "    ```\n",
    "2. Pull the image:\n",
    "    ```\n",
    "    docker pull qdrant/qdrant\n",
    "    ```\n",
    "3. Run the container\n",
    "    ```\n",
    "    docker run -p 6333:6333 \\\n",
    "        -v $(pwd)/path/to/data:/qdrant/storage \\\n",
    "        qdrant/qdrant\n",
    "    ```"
   ]
  },
  {
   "cell_type": "code",
   "execution_count": 19,
   "metadata": {},
   "outputs": [
    {
     "name": "stdout",
     "output_type": "stream",
     "text": [
      "Note: you may need to restart the kernel to use updated packages.\n"
     ]
    }
   ],
   "source": [
    "# Uncomment below line of code to Install dependencies\n",
    "# %pip install -r requirements.txt\n",
    "# %pip freeze > requirements.txt"
   ]
  },
  {
   "cell_type": "code",
   "execution_count": 10,
   "metadata": {},
   "outputs": [
    {
     "name": "stdout",
     "output_type": "stream",
     "text": [
      "/Users/ojaskapre/projects/notebooks\n"
     ]
    }
   ],
   "source": [
    "import sys\n",
    "import os\n",
    "\n",
    "from dotenv import load_dotenv\n",
    "\n",
    "load_dotenv()\n",
    "\n",
    "HUGGINGFACEHUB_API_TOKEN = os.getenv(\"HUGGINGFACEHUB_API_TOKEN\")\n",
    "OPENAI_API_KEY = os.getenv(\"OPENAI_API_KEY\")\n",
    "COHERE_API_KEY = os.getenv(\"COHERE_API_KEY\")\n",
    "\n",
    "# Get the absolute path of the current working directory\n",
    "current_dir = os.getcwd()\n",
    "print(current_dir)\n",
    "\n",
    "# Add the current directory to the Python path\n",
    "sys.path.append(current_dir)\n"
   ]
  },
  {
   "cell_type": "code",
   "execution_count": 11,
   "metadata": {},
   "outputs": [],
   "source": [
    "import asyncio\n",
    "import nest_asyncio\n",
    "from pprint import pprint\n",
    "\n",
    "nest_asyncio.apply()"
   ]
  },
  {
   "cell_type": "code",
   "execution_count": 12,
   "metadata": {},
   "outputs": [],
   "source": [
    "from webpagelinkminer import WebPageLinkExtractor\n",
    "\n",
    "# url = \"https://python.langchain.com/en/latest/\"\n",
    "# url = \"https://gpt-index.readthedocs.io/en/latest/\"\n",
    "# url = \"https://docs.sqlalchemy.org/en/20/\"\n",
    "url = \"https://next-auth.js.org/getting-started/introduction\"\n",
    "# url = \"https://flask.palletsprojects.com/en/2.3.x/\"\n",
    "# url = \"https://svelte.dev/docs\"\n",
    "# url = \"https://firebase.google.com/docs\"\n",
    "# url = \"https://www.mysqltutorial.org/\"\n",
    "# url = \"https://nextjs.org/docs\""
   ]
  },
  {
   "attachments": {},
   "cell_type": "markdown",
   "metadata": {},
   "source": [
    "Extract links from same domain using the WebpageLinkMiner library (https://github.com/ojasskapre/WebPageLinkMiner)"
   ]
  },
  {
   "cell_type": "code",
   "execution_count": 13,
   "metadata": {},
   "outputs": [
    {
     "name": "stdout",
     "output_type": "stream",
     "text": [
      "Fetching links from https://next-auth.js.org/getting-started/introduction at depth 0\n",
      "Fetching links from https://next-auth.js.org/ at depth 1\n",
      "Fetching links from https://next-auth.js.org/tutorials at depth 1\n",
      "Fetching links from https://next-auth.js.org/faq at depth 1\n",
      "Fetching links from https://next-auth.js.org/security at depth 1\n",
      "Fetching links from https://next-auth.js.org/v3/getting-started/introduction at depth 1\n",
      "Fetching links from https://next-auth.js.org/getting-started/example at depth 1\n",
      "Fetching links from https://next-auth.js.org/getting-started/client at depth 1\n",
      "Fetching links from https://next-auth.js.org/getting-started/rest-api at depth 1\n",
      "Fetching links from https://next-auth.js.org/getting-started/typescript at depth 1\n",
      "Fetching links from https://next-auth.js.org/getting-started/upgrade-v4 at depth 1\n",
      "Fetching links from https://next-auth.js.org/configuration/initialization at depth 1\n",
      "Fetching links from https://next-auth.js.org/providers/ at depth 1\n",
      "Fetching links from https://next-auth.js.org/adapters at depth 1\n",
      "Fetching links from https://next-auth.js.org/warnings at depth 1\n",
      "Fetching links from https://next-auth.js.org/errors at depth 1\n",
      "Fetching links from https://next-auth.js.org/deployment at depth 1\n",
      "Fetching links from https://next-auth.js.org/guides/ at depth 1\n",
      "Fetching links from https://next-auth.js.org/providers at depth 1\n",
      "Fetching links from https://next-auth.js.org/configuration/providers/oauth at depth 1\n",
      "Fetching links from https://next-auth.js.org/providers/email at depth 1\n",
      "Fetching links from https://next-auth.js.org/configuration/databases at depth 1\n",
      "Fetching links from https://next-auth.js.org/contributors at depth 1\n",
      "Fetching links from https://next-auth.js.org/v3/contributors at depth 2\n",
      "Fetching links from https://next-auth.js.org/providers/zoom at depth 2\n",
      "Fetching links from https://next-auth.js.org/v3/getting-started/example at depth 2\n",
      "Fetching links from https://next-auth.js.org/v3/getting-started/client at depth 2\n",
      "Fetching links from https://next-auth.js.org/v3/getting-started/rest-api at depth 2\n",
      "Fetching links from https://next-auth.js.org/v3/getting-started/typescript at depth 2\n",
      "Fetching links from https://next-auth.js.org/v3/configuration/options at depth 2\n",
      "Fetching links from https://next-auth.js.org/v3/adapters/overview at depth 2\n",
      "Fetching links from https://next-auth.js.org/v3/providers/42-school at depth 2\n",
      "Fetching links from https://next-auth.js.org/v3/warnings at depth 2\n",
      "Fetching links from https://next-auth.js.org/v3/errors at depth 2\n",
      "Fetching links from https://next-auth.js.org/v3/faq at depth 2\n",
      "Fetching links from https://next-auth.js.org/configuration/options at depth 2\n",
      "Fetching links from https://next-auth.js.org/configuration/nextjs at depth 2\n",
      "Fetching links from https://next-auth.js.org/v3/providers/email at depth 2\n",
      "Fetching links from https://next-auth.js.org/providers/42-school at depth 2\n",
      "Fetching links from https://next-auth.js.org/providers/apple at depth 2\n",
      "Fetching links from https://next-auth.js.org/providers/atlassian at depth 2\n",
      "Fetching links from https://next-auth.js.org/providers/auth0 at depth 2\n",
      "Fetching links from https://next-auth.js.org/providers/authentik at depth 2\n",
      "Fetching links from https://next-auth.js.org/providers/azure-ad-b2c at depth 2\n",
      "Fetching links from https://next-auth.js.org/providers/azure-ad at depth 2\n",
      "Fetching links from https://next-auth.js.org/providers/battle.net at depth 2\n",
      "Fetching links from https://next-auth.js.org/providers/box at depth 2\n",
      "Fetching links from https://next-auth.js.org/providers/boxyhq-saml at depth 2\n",
      "Fetching links from https://next-auth.js.org/providers/bungie at depth 2\n",
      "Fetching links from https://next-auth.js.org/providers/cognito at depth 2\n",
      "Fetching links from https://next-auth.js.org/providers/coinbase at depth 2\n",
      "Fetching links from https://next-auth.js.org/providers/credentials at depth 2\n",
      "Fetching links from https://next-auth.js.org/providers/discord at depth 2\n",
      "Fetching links from https://next-auth.js.org/providers/dropbox at depth 2\n",
      "Fetching links from https://next-auth.js.org/providers/duende-identityserver6 at depth 2\n",
      "Fetching links from https://next-auth.js.org/providers/eveonline at depth 2\n",
      "Fetching links from https://next-auth.js.org/providers/facebook at depth 2\n",
      "Fetching links from https://next-auth.js.org/providers/faceit at depth 2\n",
      "Fetching links from https://next-auth.js.org/providers/foursquare at depth 2\n",
      "Fetching links from https://next-auth.js.org/providers/freshbooks at depth 2\n",
      "Fetching links from https://next-auth.js.org/providers/fusionauth at depth 2\n",
      "Fetching links from https://next-auth.js.org/providers/github at depth 2\n",
      "Fetching links from https://next-auth.js.org/providers/gitlab at depth 2\n",
      "Fetching links from https://next-auth.js.org/providers/google at depth 2\n",
      "Fetching links from https://next-auth.js.org/providers/hubspot at depth 2\n",
      "Fetching links from https://next-auth.js.org/providers/identity-server4 at depth 2\n",
      "Fetching links from https://next-auth.js.org/providers/instagram at depth 2\n",
      "Fetching links from https://next-auth.js.org/providers/kakao at depth 2\n",
      "Fetching links from https://next-auth.js.org/providers/keycloak at depth 2\n",
      "Fetching links from https://next-auth.js.org/providers/line at depth 2\n",
      "Fetching links from https://next-auth.js.org/providers/linkedin at depth 2\n",
      "Fetching links from https://next-auth.js.org/providers/mailchimp at depth 2\n",
      "Fetching links from https://next-auth.js.org/providers/mailru at depth 2\n",
      "Fetching links from https://next-auth.js.org/providers/medium at depth 2\n",
      "Fetching links from https://next-auth.js.org/providers/naver at depth 2\n",
      "Fetching links from https://next-auth.js.org/providers/netlify at depth 2\n",
      "Fetching links from https://next-auth.js.org/providers/okta at depth 2\n",
      "Fetching links from https://next-auth.js.org/providers/onelogin at depth 2\n",
      "Fetching links from https://next-auth.js.org/providers/osso at depth 2\n",
      "Fetching links from https://next-auth.js.org/providers/osu at depth 2\n",
      "Fetching links from https://next-auth.js.org/providers/patreon at depth 2\n",
      "Fetching links from https://next-auth.js.org/providers/pinterest at depth 2\n",
      "Fetching links from https://next-auth.js.org/providers/pipedrive at depth 2\n",
      "Fetching links from https://next-auth.js.org/providers/reddit at depth 2\n",
      "Fetching links from https://next-auth.js.org/providers/salesforce at depth 2\n",
      "Fetching links from https://next-auth.js.org/providers/slack at depth 2\n",
      "Fetching links from https://next-auth.js.org/providers/spotify at depth 2\n",
      "Fetching links from https://next-auth.js.org/providers/strava at depth 2\n",
      "Fetching links from https://next-auth.js.org/providers/todoist at depth 2\n",
      "Fetching links from https://next-auth.js.org/providers/trakt at depth 2\n",
      "Fetching links from https://next-auth.js.org/providers/twitch at depth 2\n",
      "Fetching links from https://next-auth.js.org/providers/twitter at depth 2\n",
      "Fetching links from https://next-auth.js.org/providers/united-effects at depth 2\n",
      "Fetching links from https://next-auth.js.org/providers/vk at depth 2\n",
      "Fetching links from https://next-auth.js.org/providers/wikimedia at depth 2\n",
      "Fetching links from https://next-auth.js.org/providers/wordpress at depth 2\n",
      "Fetching links from https://next-auth.js.org/providers/workos at depth 2\n",
      "Fetching links from https://next-auth.js.org/providers/yandex at depth 2\n",
      "Fetching links from https://next-auth.js.org/providers/zitadel at depth 2\n",
      "Fetching links from https://next-auth.js.org/providers/zoho at depth 2\n",
      "Fetching links from https://next-auth.js.org/configuration/providers/email at depth 2\n",
      "Fetching links from https://next-auth.js.org/configuration/pages at depth 2\n",
      "Fetching links from https://next-auth.js.org/tutorials/creating-a-database-adapter at depth 2\n",
      "Fetching links from https://next-auth.js.org/configuration/providers/credentials at depth 2\n",
      "Fetching links from https://next-auth.js.org/v3/tutorials at depth 2\n",
      "Fetching links from https://next-auth.js.org at depth 2\n",
      "Fetching links from https://next-auth.js.org/configuration/callbacks at depth 2\n",
      "Fetching links from https://next-auth.js.org/guides/basics at depth 2\n",
      "Fetching links from https://next-auth.js.org/guides/fullstack at depth 2\n",
      "Fetching links from https://next-auth.js.org/guides/testing at depth 2\n",
      "Fetching links from https://next-auth.js.org/configuration/events at depth 2\n",
      "Fetching links from https://next-auth.js.org/tutorials/securing-pages-and-api-routes at depth 2\n",
      "Fetching links from https://next-auth.js.org/v3/configuration/databases at depth 2\n",
      "Fetching links from https://next-auth.js.org/v3/providers/zoom at depth 3\n",
      "Fetching links from https://next-auth.js.org/v3/providers/apple at depth 3\n",
      "Fetching links from https://next-auth.js.org/v3/providers/atlassian at depth 3\n",
      "Fetching links from https://next-auth.js.org/v3/providers/auth0 at depth 3\n",
      "Fetching links from https://next-auth.js.org/v3/providers/azure-ad-b2c at depth 3\n",
      "Fetching links from https://next-auth.js.org/v3/providers/basecamp at depth 3\n",
      "Fetching links from https://next-auth.js.org/v3/providers/battle.net at depth 3\n",
      "Fetching links from https://next-auth.js.org/v3/providers/box at depth 3\n",
      "Fetching links from https://next-auth.js.org/v3/providers/bungie at depth 3\n",
      "Fetching links from https://next-auth.js.org/v3/providers/cognito at depth 3\n",
      "Fetching links from https://next-auth.js.org/v3/providers/coinbase at depth 3\n",
      "Fetching links from https://next-auth.js.org/v3/providers/credentials at depth 3\n",
      "Fetching links from https://next-auth.js.org/v3/providers/discord at depth 3\n",
      "Fetching links from https://next-auth.js.org/v3/providers/dropbox at depth 3\n",
      "Fetching links from https://next-auth.js.org/v3/providers/duende-identityserver6 at depth 3\n",
      "Fetching links from https://next-auth.js.org/v3/providers/eveonline at depth 3\n",
      "Fetching links from https://next-auth.js.org/v3/providers/facebook at depth 3\n",
      "Fetching links from https://next-auth.js.org/v3/providers/faceit at depth 3\n",
      "Fetching links from https://next-auth.js.org/v3/providers/foursquare at depth 3\n",
      "Fetching links from https://next-auth.js.org/v3/providers/fusionauth at depth 3\n",
      "Fetching links from https://next-auth.js.org/v3/providers/github at depth 3\n",
      "Fetching links from https://next-auth.js.org/v3/providers/gitlab at depth 3\n",
      "Fetching links from https://next-auth.js.org/v3/providers/google at depth 3\n",
      "Fetching links from https://next-auth.js.org/v3/providers/identity-server4 at depth 3\n",
      "Fetching links from https://next-auth.js.org/v3/providers/instagram at depth 3\n",
      "Fetching links from https://next-auth.js.org/v3/providers/kakao at depth 3\n",
      "Fetching links from https://next-auth.js.org/v3/providers/line at depth 3\n",
      "Fetching links from https://next-auth.js.org/v3/providers/linkedin at depth 3\n",
      "Fetching links from https://next-auth.js.org/v3/providers/mailchimp at depth 3\n",
      "Fetching links from https://next-auth.js.org/v3/providers/mailru at depth 3\n",
      "Fetching links from https://next-auth.js.org/v3/providers/medium at depth 3\n",
      "Fetching links from https://next-auth.js.org/v3/providers/naver at depth 3\n",
      "Fetching links from https://next-auth.js.org/v3/providers/netlify at depth 3\n",
      "Fetching links from https://next-auth.js.org/v3/providers/okta at depth 3\n",
      "Fetching links from https://next-auth.js.org/v3/providers/osso at depth 3\n",
      "Fetching links from https://next-auth.js.org/v3/providers/reddit at depth 3\n",
      "Fetching links from https://next-auth.js.org/v3/providers/salesforce at depth 3\n",
      "Fetching links from https://next-auth.js.org/v3/providers/slack at depth 3\n",
      "Fetching links from https://next-auth.js.org/v3/providers/spotify at depth 3\n",
      "Fetching links from https://next-auth.js.org/v3/providers/strava at depth 3\n",
      "Fetching links from https://next-auth.js.org/v3/providers/twitch at depth 3\n",
      "Fetching links from https://next-auth.js.org/v3/providers/twitter at depth 3\n",
      "Fetching links from https://next-auth.js.org/v3/providers/vk at depth 3\n",
      "Fetching links from https://next-auth.js.org/v3/providers/wordpress at depth 3\n",
      "Fetching links from https://next-auth.js.org/v3/providers/workos at depth 3\n",
      "Fetching links from https://next-auth.js.org/v3/providers/yandex at depth 3\n",
      "Fetching links from https://next-auth.js.org/v3/providers/zoho at depth 3\n",
      "Fetching links from https://next-auth.js.org/v3/adapters/pouchdb at depth 3\n",
      "Fetching links from https://next-auth.js.org/v3/adapters/models at depth 3\n",
      "Fetching links from https://next-auth.js.org/v3/adapters/typeorm/typeorm-overview at depth 3\n",
      "Fetching links from https://next-auth.js.org/v3/adapters/fauna at depth 3\n",
      "Fetching links from https://next-auth.js.org/v3/adapters/prisma at depth 3\n",
      "Fetching links from https://next-auth.js.org/v3/adapters/prisma-legacy at depth 3\n",
      "Fetching links from https://next-auth.js.org/v3/adapters/dynamodb at depth 3\n",
      "Fetching links from https://next-auth.js.org/v3/adapters/firebase at depth 3\n",
      "Fetching links from https://next-auth.js.org/v3/configuration/events at depth 3\n",
      "Fetching links from https://next-auth.js.org/v3/configuration/providers at depth 3\n",
      "Fetching links from https://next-auth.js.org/v3/configuration/pages at depth 3\n",
      "Fetching links from https://next-auth.js.org/v3/configuration/callbacks at depth 3\n",
      "Fetching links from https://next-auth.js.org/tutorials/ldap-auth-example at depth 3\n",
      "Fetching links from https://next-auth.js.org/tutorials/corporate-proxy at depth 3\n",
      "Fetching links from https://next-auth.js.org/tutorials/avoid-corporate-link-checking-email-provider at depth 3\n",
      "Fetching links from https://next-auth.js.org/tutorials/usage-with-class-components at depth 3\n",
      "Fetching links from https://next-auth.js.org/v3/tutorials/creating-a-database-adapter at depth 3\n",
      "Fetching links from https://next-auth.js.org/v3/tutorials/refresh-token-rotation at depth 3\n",
      "Fetching links from https://next-auth.js.org/v3/tutorials/securing-pages-and-api-routes at depth 3\n",
      "Fetching links from https://next-auth.js.org/v3/tutorials/typeorm-custom-models at depth 3\n",
      "Fetching links from https://next-auth.js.org/v3/tutorials/ldap-auth-example at depth 3\n",
      "Fetching links from https://next-auth.js.org/v3/tutorials/testing-with-cypress at depth 3\n",
      "Fetching links from https://next-auth.js.org/v3/tutorials/usage-with-class-components at depth 3\n",
      "Fetching links from https://next-auth.js.org/tutorials/testing-with-cypress at depth 3\n",
      "Fetching links from https://next-auth.js.org/v3/adapters/typeorm/mysql at depth 3\n",
      "Fetching links from https://next-auth.js.org/v3/adapters/typeorm/postgres at depth 3\n",
      "Fetching links from https://next-auth.js.org/v3/adapters/typeorm/mssql at depth 4\n",
      "Fetching links from https://next-auth.js.org/v3/adapters/typeorm/mongodb at depth 4\n",
      "Fetching links from https://next-auth.js.org/adapters/fauna at depth 4\n",
      "Fetching links from https://next-auth.js.org/guides at depth 5\n",
      "Fetching links from https://next-auth.js.org/reference at depth 5\n",
      "Fetching links from https://next-auth.js.org/concepts/faq at depth 5\n",
      "Fetching links from https://next-auth.js.org/reference/adapter/fauna at depth 5\n",
      "Fetching links from https://next-auth.js.org/reference/core at depth 5\n",
      "Fetching links from https://next-auth.js.org/reference/sveltekit at depth 5\n",
      "Fetching links from https://next-auth.js.org/reference/solidstart at depth 5\n",
      "Fetching links from https://next-auth.js.org/reference/nextjs at depth 5\n",
      "Fetching links from https://next-auth.js.org/reference/adapters at depth 5\n",
      "Fetching links from https://next-auth.js.org/reference/adapter/dgraph at depth 5\n",
      "Fetching links from https://next-auth.js.org/reference/adapter/dynamodb at depth 5\n",
      "Fetching links from https://next-auth.js.org/reference/adapter/firebase at depth 5\n",
      "Fetching links from https://next-auth.js.org/reference/adapter/mikro-orm at depth 5\n",
      "Fetching links from https://next-auth.js.org/reference/adapter/mongodb at depth 5\n",
      "Fetching links from https://next-auth.js.org/reference/adapter/neo4j at depth 5\n",
      "Fetching links from https://next-auth.js.org/reference/adapter/pouchdb at depth 5\n",
      "Fetching links from https://next-auth.js.org/reference/adapter/prisma at depth 5\n",
      "Fetching links from https://next-auth.js.org/reference/adapter/sequelize at depth 5\n",
      "Fetching links from https://next-auth.js.org/reference/adapter/supabase at depth 5\n",
      "Fetching links from https://next-auth.js.org/reference/adapter/typeorm at depth 5\n",
      "Fetching links from https://next-auth.js.org/reference/adapter/upstash-redis at depth 5\n",
      "Fetching links from https://next-auth.js.org/reference/adapter/xata at depth 5\n",
      "Fetching links from https://next-auth.js.org/reference/warnings at depth 5\n",
      "Error fetching page: https://next-auth.js.org/reference/adapter/firebase - 404, message='Not Found', url=URL('https://next-auth.js.org/reference/adapter/firebase')\n",
      "Error fetching page: https://next-auth.js.org/reference/adapter/fauna - 404, message='Not Found', url=URL('https://next-auth.js.org/reference/adapter/fauna')\n",
      "Error fetching page: https://next-auth.js.org/concepts/faq - 404, message='Not Found', url=URL('https://next-auth.js.org/concepts/faq')\n",
      "Error fetching page: https://next-auth.js.org/reference/solidstart - 404, message='Not Found', url=URL('https://next-auth.js.org/reference/solidstart')\n",
      "Error fetching page: https://next-auth.js.org/reference/adapter/dgraph - 404, message='Not Found', url=URL('https://next-auth.js.org/reference/adapter/dgraph')\n",
      "Error fetching page: https://next-auth.js.org/reference/nextjs - 404, message='Not Found', url=URL('https://next-auth.js.org/reference/nextjs')\n",
      "Error fetching page: https://next-auth.js.org/reference/sveltekit - 404, message='Not Found', url=URL('https://next-auth.js.org/reference/sveltekit')\n",
      "Error fetching page: https://next-auth.js.org/reference/adapter/dynamodb - 404, message='Not Found', url=URL('https://next-auth.js.org/reference/adapter/dynamodb')\n",
      "Error fetching page: https://next-auth.js.org/reference/adapter/typeorm - 404, message='Not Found', url=URL('https://next-auth.js.org/reference/adapter/typeorm')\n",
      "Error fetching page: https://next-auth.js.org/reference/adapter/neo4j - 404, message='Not Found', url=URL('https://next-auth.js.org/reference/adapter/neo4j')\n",
      "Error fetching page: https://next-auth.js.org/reference/adapter/supabase - 404, message='Not Found', url=URL('https://next-auth.js.org/reference/adapter/supabase')\n",
      "Error fetching page: https://next-auth.js.org/reference/warnings - 404, message='Not Found', url=URL('https://next-auth.js.org/reference/warnings')\n",
      "Error fetching page: https://next-auth.js.org/reference/adapter/pouchdb - 404, message='Not Found', url=URL('https://next-auth.js.org/reference/adapter/pouchdb')\n",
      "Error fetching page: https://next-auth.js.org/reference/adapter/mongodb - 404, message='Not Found', url=URL('https://next-auth.js.org/reference/adapter/mongodb')\n",
      "Error fetching page: https://next-auth.js.org/reference/adapter/prisma - 404, message='Not Found', url=URL('https://next-auth.js.org/reference/adapter/prisma')\n",
      "Error fetching page: https://next-auth.js.org/reference/adapter/xata - 404, message='Not Found', url=URL('https://next-auth.js.org/reference/adapter/xata')\n",
      "Error fetching page: https://next-auth.js.org/reference/adapter/upstash-redis - 404, message='Not Found', url=URL('https://next-auth.js.org/reference/adapter/upstash-redis')\n",
      "Error fetching page: https://next-auth.js.org/reference/adapters - 404, message='Not Found', url=URL('https://next-auth.js.org/reference/adapters')\n",
      "Error fetching page: https://next-auth.js.org/reference/adapter/mikro-orm - 404, message='Not Found', url=URL('https://next-auth.js.org/reference/adapter/mikro-orm')\n",
      "Error fetching page: https://next-auth.js.org/reference/adapter/sequelize - 404, message='Not Found', url=URL('https://next-auth.js.org/reference/adapter/sequelize')\n",
      "Error fetching page: https://next-auth.js.org/reference/core - 404, message='Not Found', url=URL('https://next-auth.js.org/reference/core')\n",
      "Error fetching page: https://next-auth.js.org/reference - 404, message='Not Found', url=URL('https://next-auth.js.org/reference')\n",
      "Number of URLs extracted: 212\n",
      "['https://next-auth.js.org/providers/google',\n",
      " 'https://next-auth.js.org/v3/providers/github',\n",
      " 'https://next-auth.js.org/providers/workos',\n",
      " 'https://next-auth.js.org/providers/atlassian',\n",
      " 'https://next-auth.js.org/providers/azure-ad-b2c',\n",
      " 'https://next-auth.js.org/v3/getting-started/introduction',\n",
      " 'https://next-auth.js.org/v3/providers/mailru',\n",
      " 'https://next-auth.js.org/v3/providers/workos',\n",
      " 'https://next-auth.js.org/v3/adapters/prisma',\n",
      " 'https://next-auth.js.org/v3/providers/line']\n"
     ]
    }
   ],
   "source": [
    "extractor = WebPageLinkExtractor(url, max_depth=1000, algorithm='dfs')\n",
    "extracted_urls = asyncio.run(extractor.get_links_async())\n",
    "\n",
    "print(f'Number of URLs extracted: {len(extracted_urls)}')\n",
    "pprint(extracted_urls[:10])"
   ]
  },
  {
   "attachments": {},
   "cell_type": "markdown",
   "metadata": {},
   "source": [
    "Loading all the webpage links using Langchain WebBaseLoader (https://python.langchain.com/en/latest/modules/indexes/document_loaders/examples/web_base.html)"
   ]
  },
  {
   "cell_type": "code",
   "execution_count": 14,
   "metadata": {},
   "outputs": [
    {
     "name": "stderr",
     "output_type": "stream",
     "text": [
      "Fetching pages: 100%|##########| 212/212 [00:19<00:00, 11.13it/s]\n"
     ]
    },
    {
     "name": "stdout",
     "output_type": "stream",
     "text": [
      "Number of documents loaded: 212\n",
      "[Document(page_content='\\n\\n\\n\\n\\nGoogle | NextAuth.js\\n\\n\\n\\n\\n\\nSkip to main contentNextAuth.js is becoming Auth.js! 🎉 We\\'re creating Authentication for the Web. Everyone included. You are looking at the NextAuth.js (v4) documentation. For the new documentation go to authjs.dev.NextAuth.jsDocumentationTutorialsFAQSecurityv4v4v3All ReleasesnpmGitHubSearchGetting StartedIntroductionGetting StartedClient APIREST APITypeScriptUpgrade Guide (v4)ConfigurationProviders42 SchoolAppleAtlassianAuth0AuthentikAzure Active Directory B2CAzure Active DirectoryBattle.netBoxBoxyHQ SAMLBungieAmazon CognitoCoinbaseCredentialsDiscordDropboxDuendeIdentityServer6EmailEVE OnlineFacebookFACEITFoursquareFreshbooksFusionAuthGitHubGitLabGoogleHubSpotIdentityServer4OverviewInstagramKakaoKeycloakLINELinkedInMailchimpMail.ruMediumNaverNetlifyOktaOneLoginOssoOsu!PatreonPinterestPipedriveRedditSalesforceSlackSpotifyStravaTodoistTraktTwitchTwitterUnited EffectsVKWikimediaWordPress.comWorkOSYandexZitadelZohoZoomAdaptersWarningsErrorsDeploymentGuidesProvidersGoogleVersion: v4On this pageGoogleDocumentation\\u200bhttps://developers.google.com/identity/protocols/oauth2Configuration\\u200bhttps://console.developers.google.com/apis/credentialsThe \"Authorized redirect URIs\" used when creating the credentials must include your full domain and end in the callback path. For example;For production: https://{YOUR_DOMAIN}/api/auth/callback/googleFor development: http://localhost:3000/api/auth/callback/googleOptions\\u200bThe Google Provider comes with a set of default options:Google Provider optionsYou can override any of the options to suit your own use case.Example\\u200bimport GoogleProvider from \"next-auth/providers/google\";...providers: [  GoogleProvider({    clientId: process.env.GOOGLE_CLIENT_ID,    clientSecret: process.env.GOOGLE_CLIENT_SECRET  })]...dangerGoogle only provides Refresh Token to an application the first time a user signs in.To force Google to re-issue a Refresh Token, the user needs to remove the application from their account and sign in again:\\nhttps://myaccount.google.com/permissionsAlternatively, you can also pass options in the params object of authorization which will force the Refresh Token to always be provided on sign in, however this will ask all users to confirm if they wish to grant your application access every time they sign in.If you need access to the RefreshToken or AccessToken for a Google account and you are not using a database to persist user accounts, this may be something you need to do.const options = {  ...  providers: [    GoogleProvider({      clientId: process.env.GOOGLE_ID,      clientSecret: process.env.GOOGLE_SECRET,      authorization: {        params: {          prompt: \"consent\",          access_type: \"offline\",          response_type: \"code\"        }      }    })  ],  ...}tipGoogle also returns a email_verified boolean property in the OAuth profile.You can use this property to restrict access to people with verified accounts at a particular domain.const options = {  ...  callbacks: {    async signIn({ account, profile }) {      if (account.provider === \"google\") {        return profile.email_verified && profile.email.endsWith(\"@example.com\")      }      return true // Do different verification for other providers that don\\'t have `email_verified`    },  }  ...}Edit this pageLast updated on Apr 17, 2023 by Balázs OrbánPreviousGitLabNextHubSpotDocumentationConfigurationOptionsExampleAbout NextAuth.jsIntroduction\\n\\n\\nDownloadGitHubNPMAcknowledgementsContributorsSponsorsImages by unDrawNextAuth.js © Iain Collins 2023\\n\\n\\n\\n', metadata={'source': 'https://next-auth.js.org/providers/google', 'title': 'Google | NextAuth.js', 'description': 'Documentation', 'language': 'en'}),\n",
      " Document(page_content=\"\\n\\n\\n\\n\\nGitHub | NextAuth.js\\n\\n\\n\\n\\n\\nSkip to main contentNextAuth.js is becoming Auth.js! 🎉 We're creating Authentication for the Web. Everyone included. You are looking at the NextAuth.js (v4) documentation. For the new documentation go to authjs.dev.NextAuth.jsDocumentationTutorialsFAQSecurityv3v4v3All ReleasesnpmGitHubSearchGetting StartedIntroductionExample CodeClient APIREST APITypeScriptConfigurationDatabase AdaptersAuthentication Providers42 SchoolAppleAtlassianAuth0Azure Active Directory B2CBasecampBattle.netBoxBungieAmazon CognitoCoinbaseCredentialsDiscordDropboxDuendeIdentityServer6EmailEVE OnlineFacebookFACEITFoursquareFusionAuthGitHubGitLabGoogleIdentityServer4InstagramKakaoLINELinkedInMailchimpMail.ruMediumNaverNetlifyOktaOssoRedditSalesforceSlackSpotifyStravaTwitchTwitterVKWordPress.comWorkOSYandexZohoZoomWarningsErrorsThis is documentation for NextAuth.js v3, which is no longer actively maintained.For up-to-date documentation, see the latest version (v4).Authentication ProvidersGitHubVersion: v3On this pageGitHubDocumentation\\u200bhttps://developer.github.com/apps/building-oauth-apps/authorizing-oauth-appsConfiguration\\u200bhttps://github.com/settings/appsOptions\\u200bThe Github Provider comes with a set of default options:Github Provider optionsYou can override any of the options to suit your own use case.Example\\u200bimport Providers from `next-auth/providers`...providers: [  Providers.GitHub({    clientId: process.env.GITHUB_CLIENT_ID,    clientSecret: process.env.GITHUB_CLIENT_SECRET  })]...dangerOnly allows one callback URL per Client ID / Client Secret.tipEmail address is not returned if privacy settings are enabled.Edit this pageLast updated on Apr 17, 2023 by Balázs OrbánPreviousFusionAuthNextGitLabDocumentationConfigurationOptionsExampleAbout NextAuth.jsIntroduction\\n\\n\\nDownloadGitHubNPMAcknowledgementsContributorsSponsorsImages by unDrawNextAuth.js © Iain Collins 2023\\n\\n\\n\\n\", metadata={'source': 'https://next-auth.js.org/v3/providers/github', 'title': 'GitHub | NextAuth.js', 'description': 'Documentation', 'language': 'en'}),\n",
      " Document(page_content='\\n\\n\\n\\n\\nWorkOS | NextAuth.js\\n\\n\\n\\n\\n\\nSkip to main contentNextAuth.js is becoming Auth.js! 🎉 We\\'re creating Authentication for the Web. Everyone included. You are looking at the NextAuth.js (v4) documentation. For the new documentation go to authjs.dev.NextAuth.jsDocumentationTutorialsFAQSecurityv4v4v3All ReleasesnpmGitHubSearchGetting StartedIntroductionGetting StartedClient APIREST APITypeScriptUpgrade Guide (v4)ConfigurationProviders42 SchoolAppleAtlassianAuth0AuthentikAzure Active Directory B2CAzure Active DirectoryBattle.netBoxBoxyHQ SAMLBungieAmazon CognitoCoinbaseCredentialsDiscordDropboxDuendeIdentityServer6EmailEVE OnlineFacebookFACEITFoursquareFreshbooksFusionAuthGitHubGitLabGoogleHubSpotIdentityServer4OverviewInstagramKakaoKeycloakLINELinkedInMailchimpMail.ruMediumNaverNetlifyOktaOneLoginOssoOsu!PatreonPinterestPipedriveRedditSalesforceSlackSpotifyStravaTodoistTraktTwitchTwitterUnited EffectsVKWikimediaWordPress.comWorkOSYandexZitadelZohoZoomAdaptersWarningsErrorsDeploymentGuidesProvidersWorkOSVersion: v4On this pageWorkOSDocumentation\\u200bhttps://workos.com/docs/sso/guideConfiguration\\u200bhttps://dashboard.workos.comOptions\\u200bThe WorkOS Provider comes with a set of default options:WorkOS Provider optionsYou can override any of the options to suit your own use case.Example\\u200bimport WorkOSProvider from \"next-auth/providers/workos\";...providers: [  WorkOSProvider({    clientId: process.env.WORKOS_CLIENT_ID,    clientSecret: process.env.WORKOS_API_KEY,  }),],...WorkOS is not an identity provider itself, but, rather, a bridge to multiple single sign-on (SSO) providers. As a result, we need to make some additional changes to authenticate users using WorkOS.In order to sign a user in using WorkOS, we need to specify which WorkOS Connection to use. A common way to do this is to collect the user\\'s email address and extract the domain.This can be done using a custom login page.To add a custom login page, you can use the pages option:pages/api/auth/[...nextauth].js...  pages: {    signIn: \"/auth/signin\",  }We can then add a custom login page that displays an input where the user can enter their email address. We then extract the domain from the user\\'s email address and pass it to the authorizationParams parameter on the signIn function:pages/auth/signin.jsimport { useState } from \"react\"import { getProviders, signIn } from \"next-auth/react\"export default function SignIn({ providers }) {  const [email, setEmail] = useState(\"\")  return (    <>      {Object.values(providers).map((provider) => {        if (provider.id === \"workos\") {          return (            <div key={provider.id}>              <input                type=\"email\"                value={email}                placeholder=\"Email\"                onChange={(event) => setEmail(event.target.value)}              />              <button                onClick={() =>                  signIn(provider.id, undefined, {                    domain: email.split(\"@\")[1],                  })                }              >                Sign in with SSO              </button>            </div>          )        }        return (          <div key={provider.id}>            <button onClick={() => signIn(provider.id)}>              Sign in with {provider.name}            </button>          </div>        )      })}    </>  )}export async function getServerSideProps(context) {  const providers = await getProviders()  return {    props: { providers },  }}Edit this pageLast updated on Apr 17, 2023 by Balázs OrbánPreviousWordPress.comNextYandexDocumentationConfigurationOptionsExampleAbout NextAuth.jsIntroduction\\n\\n\\nDownloadGitHubNPMAcknowledgementsContributorsSponsorsImages by unDrawNextAuth.js © Iain Collins 2023\\n\\n\\n\\n', metadata={'source': 'https://next-auth.js.org/providers/workos', 'title': 'WorkOS | NextAuth.js', 'description': 'Documentation', 'language': 'en'}),\n",
      " Document(page_content='\\n\\n\\n\\n\\nAtlassian | NextAuth.js\\n\\n\\n\\n\\n\\nSkip to main contentNextAuth.js is becoming Auth.js! 🎉 We\\'re creating Authentication for the Web. Everyone included. You are looking at the NextAuth.js (v4) documentation. For the new documentation go to authjs.dev.NextAuth.jsDocumentationTutorialsFAQSecurityv4v4v3All ReleasesnpmGitHubSearchGetting StartedIntroductionGetting StartedClient APIREST APITypeScriptUpgrade Guide (v4)ConfigurationProviders42 SchoolAppleAtlassianAuth0AuthentikAzure Active Directory B2CAzure Active DirectoryBattle.netBoxBoxyHQ SAMLBungieAmazon CognitoCoinbaseCredentialsDiscordDropboxDuendeIdentityServer6EmailEVE OnlineFacebookFACEITFoursquareFreshbooksFusionAuthGitHubGitLabGoogleHubSpotIdentityServer4OverviewInstagramKakaoKeycloakLINELinkedInMailchimpMail.ruMediumNaverNetlifyOktaOneLoginOssoOsu!PatreonPinterestPipedriveRedditSalesforceSlackSpotifyStravaTodoistTraktTwitchTwitterUnited EffectsVKWikimediaWordPress.comWorkOSYandexZitadelZohoZoomAdaptersWarningsErrorsDeploymentGuidesProvidersAtlassianVersion: v4On this pageAtlassianDocumentation\\u200bhttps://developer.atlassian.com/cloud/jira/platform/oauth-2-authorization-code-grants-3lo-for-apps/#implementing-oauth-2-0--3lo-Options\\u200bThe Atlassian Provider comes with a set of default options:Atlassian Provider optionsYou can override any of the options to suit your own use case.Example\\u200bimport AtlassianProvider from \"next-auth/providers/atlassian\";...providers: [  AtlassianProvider({    clientId: process.env.ATLASSIAN_CLIENT_ID,    clientSecret: process.env.ATLASSIAN_CLIENT_SECRET,    authorization: {      params: {        scope: \"write:jira-work read:jira-work read:jira-user offline_access read:me\"      }    }  })]...Instructions\\u200bConfiguration\\u200btipAn app can be created at https://developer.atlassian.com/apps/Under \"Apis and features\" in the side menu, configure the following for \"OAuth 2.0 (3LO)\":Redirect URLhttp://localhost:3000/api/auth/callback/atlassiandangerTo enable access to Jira Platform REST API you must enable User Identity API and add read:me to your provider scope option.Edit this pageLast updated on Apr 17, 2023 by Balázs OrbánPreviousAppleNextAuth0DocumentationOptionsExampleInstructionsConfigurationAbout NextAuth.jsIntroduction\\n\\n\\nDownloadGitHubNPMAcknowledgementsContributorsSponsorsImages by unDrawNextAuth.js © Iain Collins 2023\\n\\n\\n\\n', metadata={'source': 'https://next-auth.js.org/providers/atlassian', 'title': 'Atlassian | NextAuth.js', 'description': 'Documentation', 'language': 'en'}),\n",
      " Document(page_content='\\n\\n\\n\\n\\nAzure Active Directory B2C | NextAuth.js\\n\\n\\n\\n\\n\\nSkip to main contentNextAuth.js is becoming Auth.js! 🎉 We\\'re creating Authentication for the Web. Everyone included. You are looking at the NextAuth.js (v4) documentation. For the new documentation go to authjs.dev.NextAuth.jsDocumentationTutorialsFAQSecurityv4v4v3All ReleasesnpmGitHubSearchGetting StartedIntroductionGetting StartedClient APIREST APITypeScriptUpgrade Guide (v4)ConfigurationProviders42 SchoolAppleAtlassianAuth0AuthentikAzure Active Directory B2CAzure Active DirectoryBattle.netBoxBoxyHQ SAMLBungieAmazon CognitoCoinbaseCredentialsDiscordDropboxDuendeIdentityServer6EmailEVE OnlineFacebookFACEITFoursquareFreshbooksFusionAuthGitHubGitLabGoogleHubSpotIdentityServer4OverviewInstagramKakaoKeycloakLINELinkedInMailchimpMail.ruMediumNaverNetlifyOktaOneLoginOssoOsu!PatreonPinterestPipedriveRedditSalesforceSlackSpotifyStravaTodoistTraktTwitchTwitterUnited EffectsVKWikimediaWordPress.comWorkOSYandexZitadelZohoZoomAdaptersWarningsErrorsDeploymentGuidesProvidersAzure Active Directory B2CVersion: v4On this pageAzure Active Directory B2CnoteAzure AD B2C returns the following fields on Account:refresh_token_expires_in (number)not_before (number)id_token_expires_in (number)profile_info (string).See their docs. Remember to add these fields to your database schema, in case if you are using an Adapter.Documentation\\u200bhttps://docs.microsoft.com/azure/active-directory/develop/v2-oauth2-auth-code-flowConfiguration\\u200bhttps://docs.microsoft.com/azure/active-directory-b2c/tutorial-create-tenantOptions\\u200bThe Azure Active Directory Provider comes with a set of default options:Azure Active Directory Provider optionsYou can override any of the options to suit your own use case.Configuration (Basic)\\u200bBasic configuration sets up Azure AD B2C to return an ID Token. This should be done as a prerequisite prior to running through the Advanced configuration.Step 1: Azure AD B2C Tenant\\nhttps://docs.microsoft.com/en-us/azure/active-directory-b2c/tutorial-create-tenantStep 2: App Registration\\nhttps://docs.microsoft.com/en-us/azure/active-directory-b2c/tutorial-register-applicationsStep 3: User Flow\\nhttps://docs.microsoft.com/en-us/azure/active-directory-b2c/tutorial-create-user-flowsNote: For the step \"User attributes and token claims\" you might minimally:Collect attribute:Email AddressDisplay NameGiven NameSurnameReturn claim:Email AddressesDisplay NameGiven NameSurnameIdentity ProviderIdentity Provider Access TokenUser\\'s Object IDExample\\u200bIn .env.local create the following entries:AZURE_AD_B2C_TENANT_NAME=<copy the B2C tenant name here from Step 1>AZURE_AD_B2C_CLIENT_ID=<copy Application (client) ID here from Step 2>AZURE_AD_B2C_CLIENT_SECRET=<copy generated secret value here from Step 2>AZURE_AD_B2C_PRIMARY_USER_FLOW=<copy the name of the signin user flow you created from Step 3>In pages/api/auth/[...nextauth].js find or add the AZURE_AD_B2C entries:import AzureADB2CProvider from \"next-auth/providers/azure-ad-b2c\";...providers: [  AzureADB2CProvider({    tenantId: process.env.AZURE_AD_B2C_TENANT_NAME,    clientId: process.env.AZURE_AD_B2C_CLIENT_ID,    clientSecret: process.env.AZURE_AD_B2C_CLIENT_SECRET,    primaryUserFlow: process.env.AZURE_AD_B2C_PRIMARY_USER_FLOW,    authorization: { params: { scope: \"offline_access openid\" } },  }),]...Configuration (Advanced)\\u200bAdvanced configuration sets up Azure AD B2C to return an Authorization Token. This builds on the steps completed in the Basic configuration above.Step 4: Add a Web API application\\nhttps://docs.microsoft.com/en-us/azure/active-directory-b2c/tutorial-single-page-app-webapi?tabs=app-reg-gaNote: this is a second app registration (similar to Step 2) but with different setup and configuration.Example\\u200bNothing in .env.local needs to change here. The only update is in pages/api/auth/[...nextauth].js where you will need to add the additional scopes that were created in Step 4 above:import AzureADB2CProvider from \"next-auth/providers/azure-ad-b2c\";...providers: [  AzureADB2CProvider({    tenantId: process.env.AZURE_AD_B2C_TENANT_NAME,    clientId: process.env.AZURE_AD_B2C_CLIENT_ID,    clientSecret: process.env.AZURE_AD_B2C_CLIENT_SECRET,    primaryUserFlow: process.env.AZURE_AD_B2C_PRIMARY_USER_FLOW,    authorization: { params: { scope: `https://${process.env.AZURE_AD_B2C_TENANT_NAME}.onmicrosoft.com/api/demo.read https://${process.env.AZURE_AD_B2C_TENANT_NAME}.onmicrosoft.com/api/demo.write offline_access openid` } },  }),]...Edit this pageLast updated on Apr 17, 2023 by Balázs OrbánPreviousAuthentikNextAzure Active DirectoryDocumentationConfigurationOptionsConfiguration (Basic)ExampleConfiguration (Advanced)ExampleAbout NextAuth.jsIntroduction\\n\\n\\nDownloadGitHubNPMAcknowledgementsContributorsSponsorsImages by unDrawNextAuth.js © Iain Collins 2023\\n\\n\\n\\n', metadata={'source': 'https://next-auth.js.org/providers/azure-ad-b2c', 'title': 'Azure Active Directory B2C | NextAuth.js', 'description': 'Azure AD B2C returns the following fields on Account:', 'language': 'en'}),\n",
      " Document(page_content=\"\\n\\n\\n\\n\\nIntroduction | NextAuth.js\\n\\n\\n\\n\\n\\nSkip to main contentNextAuth.js is becoming Auth.js! 🎉 We're creating Authentication for the Web. Everyone included. You are looking at the NextAuth.js (v4) documentation. For the new documentation go to authjs.dev.NextAuth.jsDocumentationTutorialsFAQSecurityv3v4v3All ReleasesnpmGitHubSearchGetting StartedIntroductionExample CodeClient APIREST APITypeScriptConfigurationDatabase AdaptersAuthentication ProvidersWarningsErrorsThis is documentation for NextAuth.js v3, which is no longer actively maintained.For up-to-date documentation, see the latest version (v4).Getting StartedIntroductionVersion: v3On this pageIntroductionAbout NextAuth.js\\u200bNextAuth.js is a complete open source authentication solution for Next.js applications.It is designed from the ground up to support Next.js and Serverless.Check out the example code to see how easy it is to use NextAuth.js for authentication.Flexible and easy to use\\u200bDesigned to work with any OAuth service, it supports OAuth 1.0, 1.0A and 2.0Built-in support for many popular sign-in servicesSupports email / passwordless authenticationSupports stateless authentication with any backend (Active Directory, LDAP, etc)Supports both JSON Web Tokens and database sessionsDesigned for Serverless but runs anywhere (AWS Lambda, Docker, Heroku, etc…)Own your own data\\u200bNextAuth.js can be used with or without a database.An open source solution that allows you to keep control of your dataSupports Bring Your Own Database (BYOD) and can be used with any databaseBuilt-in support for MySQL, MariaDB, Postgres, SQL Server, MongoDB and SQLiteWorks great with databases from popular hosting providersCan also be used without a database (e.g. OAuth + JWT)Note: Email sign in requires a database to be configured to store single-use verification tokens.Secure by default\\u200bPromotes the use of passwordless sign in mechanismsDesigned to be secure by default and encourage best practice for safeguarding user dataUses Cross Site Request Forgery Tokens on POST routes (sign in, sign out)Default cookie policy aims for the most restrictive policy appropriate for each cookieWhen JSON Web Tokens are enabled, they are signed by default (JWS) with HS512Use JWT encryption (JWE) by setting the option encryption: true (defaults to A256GCM)Auto-generates symmetric signing and encryption keys for developer convenienceFeatures tab/window syncing and keepalive messages to support short lived sessionsAttempts to implement the latest guidance published by Open Web Application Security ProjectAdvanced options allow you to define your own routines to handle controlling what accounts are allowed to sign in, for encoding and decoding JSON Web Tokens and to set custom cookie security policies and session properties, so you can control who is able to sign in and how often sessions have to be re-validated.Credits\\u200bNextAuth.js is an open source project that is only possible thanks to contributors.Getting Started\\u200bCheck out the example code to see how easy it is to use NextAuth.js for authentication.Edit this pageLast updated on Apr 17, 2023 by Balázs OrbánNextExample CodeAbout NextAuth.jsFlexible and easy to useOwn your own dataSecure by defaultCreditsGetting StartedAbout NextAuth.jsIntroduction\\n\\n\\nDownloadGitHubNPMAcknowledgementsContributorsSponsorsImages by unDrawNextAuth.js © Iain Collins 2023\\n\\n\\n\\n\", metadata={'source': 'https://next-auth.js.org/v3/getting-started/introduction', 'title': 'Introduction | NextAuth.js', 'description': 'About NextAuth.js', 'language': 'en'}),\n",
      " Document(page_content=\"\\n\\n\\n\\n\\nMail.ru | NextAuth.js\\n\\n\\n\\n\\n\\nSkip to main contentNextAuth.js is becoming Auth.js! 🎉 We're creating Authentication for the Web. Everyone included. You are looking at the NextAuth.js (v4) documentation. For the new documentation go to authjs.dev.NextAuth.jsDocumentationTutorialsFAQSecurityv3v4v3All ReleasesnpmGitHubSearchGetting StartedIntroductionExample CodeClient APIREST APITypeScriptConfigurationDatabase AdaptersAuthentication Providers42 SchoolAppleAtlassianAuth0Azure Active Directory B2CBasecampBattle.netBoxBungieAmazon CognitoCoinbaseCredentialsDiscordDropboxDuendeIdentityServer6EmailEVE OnlineFacebookFACEITFoursquareFusionAuthGitHubGitLabGoogleIdentityServer4InstagramKakaoLINELinkedInMailchimpMail.ruMediumNaverNetlifyOktaOssoRedditSalesforceSlackSpotifyStravaTwitchTwitterVKWordPress.comWorkOSYandexZohoZoomWarningsErrorsThis is documentation for NextAuth.js v3, which is no longer actively maintained.For up-to-date documentation, see the latest version (v4).Authentication ProvidersMail.ruVersion: v3On this pageMail.ruDocumentation\\u200bhttps://o2.mail.ru/docsConfiguration\\u200bhttps://o2.mail.ru/app/Options\\u200bThe Mail.ru Provider comes with a set of default options:Mail.ru Provider optionsYou can override any of the options to suit your own use case.Example\\u200bimport Providers from `next-auth/providers`...providers: [  Providers.MailRu({    clientId: process.env.MAILRU_CLIENT_ID,    clientSecret: process.env.MAILRU_CLIENT_SECRET  })]...Edit this pageLast updated on Apr 17, 2023 by Balázs OrbánPreviousMailchimpNextMediumDocumentationConfigurationOptionsExampleAbout NextAuth.jsIntroduction\\n\\n\\nDownloadGitHubNPMAcknowledgementsContributorsSponsorsImages by unDrawNextAuth.js © Iain Collins 2023\\n\\n\\n\\n\", metadata={'source': 'https://next-auth.js.org/v3/providers/mailru', 'title': 'Mail.ru | NextAuth.js', 'description': 'Documentation', 'language': 'en'}),\n",
      " Document(page_content='\\n\\n\\n\\n\\nWorkOS | NextAuth.js\\n\\n\\n\\n\\n\\nSkip to main contentNextAuth.js is becoming Auth.js! 🎉 We\\'re creating Authentication for the Web. Everyone included. You are looking at the NextAuth.js (v4) documentation. For the new documentation go to authjs.dev.NextAuth.jsDocumentationTutorialsFAQSecurityv3v4v3All ReleasesnpmGitHubSearchGetting StartedIntroductionExample CodeClient APIREST APITypeScriptConfigurationDatabase AdaptersAuthentication Providers42 SchoolAppleAtlassianAuth0Azure Active Directory B2CBasecampBattle.netBoxBungieAmazon CognitoCoinbaseCredentialsDiscordDropboxDuendeIdentityServer6EmailEVE OnlineFacebookFACEITFoursquareFusionAuthGitHubGitLabGoogleIdentityServer4InstagramKakaoLINELinkedInMailchimpMail.ruMediumNaverNetlifyOktaOssoRedditSalesforceSlackSpotifyStravaTwitchTwitterVKWordPress.comWorkOSYandexZohoZoomWarningsErrorsThis is documentation for NextAuth.js v3, which is no longer actively maintained.For up-to-date documentation, see the latest version (v4).Authentication ProvidersWorkOSVersion: v3On this pageWorkOSDocumentation\\u200bhttps://workos.com/docs/sso/guideConfiguration\\u200bhttps://dashboard.workos.comOptions\\u200bThe WorkOS Provider comes with a set of default options:WorkOS Provider optionsYou can override any of the options to suit your own use case.Example\\u200bimport Providers from `next-auth/providers`...providers: [  Providers.WorkOS({    clientId: process.env.WORKOS_CLIENT_ID,    clientSecret: process.env.WORKOS_API_KEY,  }),],...WorkOS is not an identity provider itself, but, rather, a bridge to multiple single sign-on (SSO) providers. As a result, we need to make some additional changes to authenticate users using WorkOS.In order to sign a user in using WorkOS, we need to specify which WorkOS Connection to use. A common way to do this is to collect the user\\'s email address and extract the domain.This can be done using a custom login page.To add a custom login page, you can use the pages option:pages/api/auth/[...nextauth].js...  pages: {    signIn: \\'/auth/signin\\',  }We can then add a custom login page that displays an input where the user can enter their email address. We then extract the domain from the user\\'s email address and pass it to the authorizationParams parameter on the signIn function:pages/auth/signin.jsimport { getProviders, signIn } from \"next-auth/client\"export default function SignIn({ providers }) {  const [email, setEmail] = useState(\"\")  return (    <>      {Object.values(providers).map((provider) => {        if (provider.id === \"workos\") {          return (            <div key={provider.id}>              <input                type=\"email\"                value={email}                placeholder=\"Email\"                onChange={(event) => setEmail(event.target.value)}              />              <button                onClick={() =>                  signIn(provider.id, undefined, {                    domain: email.split(\"@\")[1],                  })                }              >                Sign in with SSO              </button>            </div>          )        }        return (          <div key={provider.id}>            <button onClick={() => signIn(provider.id)}>              Sign in with {provider.name}            </button>          </div>        )      })}    </>  )}// This is the recommended way for Next.js 9.3 or newerexport async function getServerSideProps(context) {  const providers = await getProviders()  return {    props: { providers },  }}/*// If older than Next.js 9.3SignIn.getInitialProps = async () => {  return {    providers: await getProviders()  }}*/Edit this pageLast updated on Apr 17, 2023 by Balázs OrbánPreviousWordPress.comNextYandexDocumentationConfigurationOptionsExampleAbout NextAuth.jsIntroduction\\n\\n\\nDownloadGitHubNPMAcknowledgementsContributorsSponsorsImages by unDrawNextAuth.js © Iain Collins 2023\\n\\n\\n\\n', metadata={'source': 'https://next-auth.js.org/v3/providers/workos', 'title': 'WorkOS | NextAuth.js', 'description': 'Documentation', 'language': 'en'}),\n",
      " Document(page_content='\\n\\n\\n\\n\\nPrisma Adapter | NextAuth.js\\n\\n\\n\\n\\n\\nSkip to main contentNextAuth.js is becoming Auth.js! 🎉 We\\'re creating Authentication for the Web. Everyone included. You are looking at the NextAuth.js (v4) documentation. For the new documentation go to authjs.dev.NextAuth.jsDocumentationTutorialsFAQSecurityv3v4v3All ReleasesnpmGitHubSearchGetting StartedIntroductionExample CodeClient APIREST APITypeScriptConfigurationDatabase AdaptersOverviewModelsTypeORMFaunaDB AdapterPrisma AdapterPrisma Adapter (Legacy)DynamoDB AdapterFirebase AdapterPouchDB AdapterAuthentication ProvidersWarningsErrorsThis is documentation for NextAuth.js v3, which is no longer actively maintained.For up-to-date documentation, see the latest version (v4).Database AdaptersPrisma AdapterVersion: v3On this pagePrismaYou can also use NextAuth.js with the new experimental Adapter for Prisma. This version of the Prisma Adapter is not included in the core next-auth package, and must be installed separately.infoYou may have noticed there is a prisma and prisma-legacy adapter. This is due to historical reasons, but the code has mostly converged so that there is no longer much difference between the two. The legacy adapter, however, does have the ability to rename tables which the newer version does not.To use this Adapter, you need to install Prisma Client, Prisma CLI, and the separate @next-auth/prisma-adapter@canary package:npm install @prisma/client @next-auth/prisma-adapter@canarynpm install prisma --save-devConfigure your NextAuth.js to use the Prisma Adapter:pages/api/auth/[...nextauth].jsimport NextAuth from \"next-auth\"import Providers from \"next-auth/providers\"import { PrismaAdapter } from \"@next-auth/prisma-adapter\"import { PrismaClient } from \"@prisma/client\"const prisma = new PrismaClient()export default NextAuth({  providers: [    Providers.Google({      clientId: process.env.GOOGLE_CLIENT_ID,      clientSecret: process.env.GOOGLE_CLIENT_SECRET,    }),  ],  adapter: PrismaAdapter(prisma),})tipWhile Prisma includes an experimental feature in the migration command that is able to generate SQL from a schema, creating tables and columns using the provided SQL is currently recommended instead as SQL schemas automatically generated by Prisma may differ from the recommended schemas.Schema for the Prisma Adapter (@next-auth/prisma-adapter)Setup\\u200bCreate a schema file in prisma/schema.prisma similar to this one:schema.prismagenerator client {  provider = \"prisma-client-js\"}datasource db {  provider = \"sqlite\"  url      = \"file:./dev.db\"}model Account {  id                 String    @id @default(cuid())  userId             String  providerType       String  providerId         String  providerAccountId  String  refreshToken       String?  accessToken        String?  accessTokenExpires DateTime?  createdAt          DateTime  @default(now())  updatedAt          DateTime  @updatedAt  user               User      @relation(fields: [userId], references: [id])  @@unique([providerId, providerAccountId])}model Session {  id           String   @id @default(cuid())  userId       String  expires      DateTime  sessionToken String   @unique  accessToken  String   @unique  createdAt    DateTime @default(now())  updatedAt    DateTime @updatedAt  user         User     @relation(fields: [userId], references: [id])}model User {  id            String    @id @default(cuid())  name          String?  email         String?   @unique  emailVerified DateTime?  image         String?  createdAt     DateTime  @default(now())  updatedAt     DateTime  @updatedAt  accounts      Account[]  sessions      Session[]}model VerificationRequest {  id         String   @id @default(cuid())  identifier String  token      String   @unique  expires    DateTime  createdAt  DateTime @default(now())  updatedAt  DateTime @updatedAt  @@unique([identifier, token])}Generate Client\\u200bOnce you have saved your schema, use the Prisma CLI to generate the Prisma Client:npx prisma generateTo configure you database to use the new schema (i.e. create tables and columns) use the prisma migrate command:npx prisma migrate devTo generate a schema in this way with the above example code, you will need to specify your database connection string in the environment variable DATABASE_URL. You can do this by setting it in a .env file at the root of your project.As this feature is experimental in Prisma, it is behind a feature flag. You should check your database schema manually after using this option. See the Prisma documentation for information on how to use prisma migrate.Schema History\\u200bChanges from the original Prisma Adapter model Account {-  id                 Int       @default(autoincrement()) @id+  id                 String    @id @default(cuid())-  compoundId         String    @unique @map(name: \"compound_id\")-  userId             Int       @map(name: \"user_id\")+  userId             String+  user               User      @relation(fields: [userId], references: [id])-  providerType       String    @map(name: \"provider_type\")+  providerType       String-  providerId         String    @map(name: \"provider_id\")+  providerId         String-  providerAccountId  String    @map(name: \"provider_account_id\")+  providerAccountId  String-  refreshToken       String?   @map(name: \"refresh_token\")+  refreshToken       String?-  accessToken        String?   @map(name: \"access_token\")+  accessToken        String?-  accessTokenExpires DateTime? @map(name: \"access_token_expires\")+  accessTokenExpires DateTime?-  createdAt          DateTime  @default(now()) @map(name: \"created_at\")+  createdAt          DateTime  @default(now())-  updatedAt          DateTime  @default(now()) @map(name: \"updated_at\")+  updatedAt          DateTime  @updatedAt-  @@index([providerAccountId], name: \"providerAccountId\")-  @@index([providerId], name: \"providerId\")-  @@index([userId], name: \"userId\")-  @@map(name: \"accounts\")+  @@unique([providerId, providerAccountId]) } model Session {-  id           Int      @default(autoincrement()) @id+  id           String   @id @default(cuid())-  userId       Int      @map(name: \"user_id\")+  userId       String+  user         User     @relation(fields: [userId], references: [id])   expires      DateTime-  sessionToken String   @unique @map(name: \"session_token\")+  sessionToken String   @unique-  accessToken  String   @unique @map(name: \"access_token\")+  accessToken  String   @unique-  createdAt    DateTime @default(now()) @map(name: \"created_at\")+  createdAt    DateTime @default(now())-  updatedAt    DateTime @default(now()) @map(name: \"updated_at\")+  updatedAt    DateTime @updatedAt--  @@map(name: \"sessions\") } model User {-  id            Int       @default(autoincrement()) @id+  id            String    @id @default(cuid())   name          String?   email         String?   @unique-  emailVerified DateTime? @map(name: \"email_verified\")+  emailVerified DateTime?   image         String?+  accounts      Account[]+  sessions      Session[]-  createdAt     DateTime  @default(now()) @map(name: \"created_at\")+  createdAt     DateTime  @default(now())-  updatedAt     DateTime  @default(now()) @map(name: \"updated_at\")+  updatedAt     DateTime  @updatedAt-  @@map(name: \"users\") } model VerificationRequest {-  id         Int      @default(autoincrement()) @id+  id         String   @id @default(cuid())   identifier String   token      String   @unique   expires    DateTime-  createdAt  DateTime  @default(now()) @map(name: \"created_at\")+  createdAt  DateTime @default(now())-  updatedAt  DateTime  @default(now()) @map(name: \"updated_at\")+  updatedAt  DateTime @updatedAt-  @@map(name: \"verification_requests\")+  @@unique([identifier, token]) }Edit this pageLast updated on Apr 17, 2023 by Balázs OrbánPreviousFaunaDB AdapterNextPrisma Adapter (Legacy)SetupGenerate ClientSchema HistoryAbout NextAuth.jsIntroduction\\n\\n\\nDownloadGitHubNPMAcknowledgementsContributorsSponsorsImages by unDrawNextAuth.js © Iain Collins 2023\\n\\n\\n\\n', metadata={'source': 'https://next-auth.js.org/v3/adapters/prisma', 'title': 'Prisma Adapter | NextAuth.js', 'description': 'You can also use NextAuth.js with the new experimental Adapter for Prisma. This version of the Prisma Adapter is not included in the core next-auth package, and must be installed separately.', 'language': 'en'}),\n",
      " Document(page_content=\"\\n\\n\\n\\n\\nLINE | NextAuth.js\\n\\n\\n\\n\\n\\nSkip to main contentNextAuth.js is becoming Auth.js! 🎉 We're creating Authentication for the Web. Everyone included. You are looking at the NextAuth.js (v4) documentation. For the new documentation go to authjs.dev.NextAuth.jsDocumentationTutorialsFAQSecurityv3v4v3All ReleasesnpmGitHubSearchGetting StartedIntroductionExample CodeClient APIREST APITypeScriptConfigurationDatabase AdaptersAuthentication Providers42 SchoolAppleAtlassianAuth0Azure Active Directory B2CBasecampBattle.netBoxBungieAmazon CognitoCoinbaseCredentialsDiscordDropboxDuendeIdentityServer6EmailEVE OnlineFacebookFACEITFoursquareFusionAuthGitHubGitLabGoogleIdentityServer4InstagramKakaoLINELinkedInMailchimpMail.ruMediumNaverNetlifyOktaOssoRedditSalesforceSlackSpotifyStravaTwitchTwitterVKWordPress.comWorkOSYandexZohoZoomWarningsErrorsThis is documentation for NextAuth.js v3, which is no longer actively maintained.For up-to-date documentation, see the latest version (v4).Authentication ProvidersLINEVersion: v3On this pageLINEDocumentation\\u200bhttps://developers.line.biz/en/docs/line-login/integrate-line-login/Configuration\\u200bhttps://developers.line.biz/console/Options\\u200bThe Line Provider comes with a set of default options:Line Provider optionsYou can override any of the options to suit your own use case.Example\\u200bimport Providers from `next-auth/providers`...providers: [  Providers.LINE({    clientId: process.env.LINE_CLIENT_ID,    clientSecret: process.env.LINE_CLIENT_SECRET  })]...Instructions\\u200bConfiguration\\u200bCreate a provider and a LINE login channel at https://developers.line.biz/console/. In the settings of the channel under LINE Login, activate web app and configure the following:Callback URLhttp://localhost:3000/api/auth/callback/lineEdit this pageLast updated on Apr 17, 2023 by Balázs OrbánPreviousKakaoNextLinkedInDocumentationConfigurationOptionsExampleInstructionsConfigurationAbout NextAuth.jsIntroduction\\n\\n\\nDownloadGitHubNPMAcknowledgementsContributorsSponsorsImages by unDrawNextAuth.js © Iain Collins 2023\\n\\n\\n\\n\", metadata={'source': 'https://next-auth.js.org/v3/providers/line', 'title': 'LINE | NextAuth.js', 'description': 'Documentation', 'language': 'en'})]\n"
     ]
    }
   ],
   "source": [
    "from langchain.document_loaders import WebBaseLoader\n",
    "\n",
    "loader = WebBaseLoader(extracted_urls)\n",
    "loader.requests_per_second = 1\n",
    "docs = loader.aload()\n",
    "\n",
    "print(f'Number of documents loaded: {len(docs)}')\n",
    "pprint(docs[:10])"
   ]
  },
  {
   "attachments": {},
   "cell_type": "markdown",
   "metadata": {},
   "source": [
    "Using tiktoken encoder which is used for OpenAI models along with the Langchain RecursiveCharacterTextSplitter (https://python.langchain.com/en/latest/modules/indexes/text_splitters/examples/recursive_text_splitter.html)"
   ]
  },
  {
   "cell_type": "code",
   "execution_count": 15,
   "metadata": {},
   "outputs": [
    {
     "name": "stdout",
     "output_type": "stream",
     "text": [
      "Number of texts split: 443\n",
      "[Document(page_content='Google | NextAuth.js\\n\\n\\n\\n\\n\\nSkip to main contentNextAuth.js is becoming Auth.js! 🎉 We\\'re creating Authentication for the Web. Everyone included. You are looking at the NextAuth.js (v4) documentation. For the new documentation go to authjs.dev.NextAuth.jsDocumentationTutorialsFAQSecurityv4v4v3All ReleasesnpmGitHubSearchGetting StartedIntroductionGetting StartedClient APIREST APITypeScriptUpgrade Guide (v4)ConfigurationProviders42 SchoolAppleAtlassianAuth0AuthentikAzure Active Directory B2CAzure Active DirectoryBattle.netBoxBoxyHQ SAMLBungieAmazon CognitoCoinbaseCredentialsDiscordDropboxDuendeIdentityServer6EmailEVE OnlineFacebookFACEITFoursquareFreshbooksFusionAuthGitHubGitLabGoogleHubSpotIdentityServer4OverviewInstagramKakaoKeycloakLINELinkedInMailchimpMail.ruMediumNaverNetlifyOktaOneLoginOssoOsu!PatreonPinterestPipedriveRedditSalesforceSlackSpotifyStravaTodoistTraktTwitchTwitterUnited EffectsVKWikimediaWordPress.comWorkOSYandexZitadelZohoZoomAdaptersWarningsErrorsDeploymentGuidesProvidersGoogleVersion: v4On this pageGoogleDocumentation\\u200bhttps://developers.google.com/identity/protocols/oauth2Configuration\\u200bhttps://console.developers.google.com/apis/credentialsThe \"Authorized redirect URIs\" used when creating the credentials must include your full domain and end in the callback path. For example;For production: https://{YOUR_DOMAIN}/api/auth/callback/googleFor development: http://localhost:3000/api/auth/callback/googleOptions\\u200bThe Google Provider comes with a set of default options:Google Provider optionsYou can override any of the options to suit your own use case.Example\\u200bimport GoogleProvider from \"next-auth/providers/google\";...providers: [  GoogleProvider({    clientId: process.env.GOOGLE_CLIENT_ID,    clientSecret: process.env.GOOGLE_CLIENT_SECRET  })]...dangerGoogle only provides Refresh Token to an application the first time a user signs in.To force Google to re-issue a Refresh Token, the user needs to remove the application from their account and sign in again:\\nhttps://myaccount.google.com/permissionsAlternatively, you can also pass options in the params object of authorization which will force the Refresh Token to always be provided on sign in, however this will ask all users to confirm if they wish to grant your application access every time they sign in.If you need access to the RefreshToken or AccessToken for a Google account and you are not using a database to persist user accounts, this may be something you need to do.const options = {  ...  providers: [    GoogleProvider({      clientId: process.env.GOOGLE_ID,      clientSecret: process.env.GOOGLE_SECRET,      authorization: {        params: {          prompt: \"consent\",          access_type: \"offline\",          response_type: \"code\"        }      }    })  ],  ...}tipGoogle also returns a email_verified boolean property in the OAuth profile.You can use this property to restrict access to people with verified accounts at a particular domain.const options = {  ...  callbacks: {    async signIn({ account, profile }) {      if (account.provider === \"google\") {        return profile.email_verified && profile.email.endsWith(\"@example.com\")      }      return true // Do different verification for other providers that don\\'t have `email_verified`    },  }  ...}Edit this pageLast updated on Apr 17, 2023 by Balázs OrbánPreviousGitLabNextHubSpotDocumentationConfigurationOptionsExampleAbout NextAuth.jsIntroduction\\n\\n\\nDownloadGitHubNPMAcknowledgementsContributorsSponsorsImages by unDrawNextAuth.js © Iain Collins 2023', metadata={'source': 'https://next-auth.js.org/providers/google', 'title': 'Google | NextAuth.js', 'description': 'Documentation', 'language': 'en'}),\n",
      " Document(page_content=\"GitHub | NextAuth.js\\n\\n\\n\\n\\n\\nSkip to main contentNextAuth.js is becoming Auth.js! 🎉 We're creating Authentication for the Web. Everyone included. You are looking at the NextAuth.js (v4) documentation. For the new documentation go to authjs.dev.NextAuth.jsDocumentationTutorialsFAQSecurityv3v4v3All ReleasesnpmGitHubSearchGetting StartedIntroductionExample CodeClient APIREST APITypeScriptConfigurationDatabase AdaptersAuthentication Providers42 SchoolAppleAtlassianAuth0Azure Active Directory B2CBasecampBattle.netBoxBungieAmazon CognitoCoinbaseCredentialsDiscordDropboxDuendeIdentityServer6EmailEVE OnlineFacebookFACEITFoursquareFusionAuthGitHubGitLabGoogleIdentityServer4InstagramKakaoLINELinkedInMailchimpMail.ruMediumNaverNetlifyOktaOssoRedditSalesforceSlackSpotifyStravaTwitchTwitterVKWordPress.comWorkOSYandexZohoZoomWarningsErrorsThis is documentation for NextAuth.js v3, which is no longer actively maintained.For up-to-date documentation, see the latest version (v4).Authentication ProvidersGitHubVersion: v3On this pageGitHubDocumentation\\u200bhttps://developer.github.com/apps/building-oauth-apps/authorizing-oauth-appsConfiguration\\u200bhttps://github.com/settings/appsOptions\\u200bThe Github Provider comes with a set of default options:Github Provider optionsYou can override any of the options to suit your own use case.Example\\u200bimport Providers from `next-auth/providers`...providers: [  Providers.GitHub({    clientId: process.env.GITHUB_CLIENT_ID,    clientSecret: process.env.GITHUB_CLIENT_SECRET  })]...dangerOnly allows one callback URL per Client ID / Client Secret.tipEmail address is not returned if privacy settings are enabled.Edit this pageLast updated on Apr 17, 2023 by Balázs OrbánPreviousFusionAuthNextGitLabDocumentationConfigurationOptionsExampleAbout NextAuth.jsIntroduction\\n\\n\\nDownloadGitHubNPMAcknowledgementsContributorsSponsorsImages by unDrawNextAuth.js © Iain Collins 2023\", metadata={'source': 'https://next-auth.js.org/v3/providers/github', 'title': 'GitHub | NextAuth.js', 'description': 'Documentation', 'language': 'en'}),\n",
      " Document(page_content='WorkOS | NextAuth.js', metadata={'source': 'https://next-auth.js.org/providers/workos', 'title': 'WorkOS | NextAuth.js', 'description': 'Documentation', 'language': 'en'}),\n",
      " Document(page_content='Skip to main contentNextAuth.js is becoming Auth.js! 🎉 We\\'re creating Authentication for the Web. Everyone included. You are looking at the NextAuth.js (v4) documentation. For the new documentation go to authjs.dev.NextAuth.jsDocumentationTutorialsFAQSecurityv4v4v3All ReleasesnpmGitHubSearchGetting StartedIntroductionGetting StartedClient APIREST APITypeScriptUpgrade Guide (v4)ConfigurationProviders42 SchoolAppleAtlassianAuth0AuthentikAzure Active Directory B2CAzure Active DirectoryBattle.netBoxBoxyHQ SAMLBungieAmazon CognitoCoinbaseCredentialsDiscordDropboxDuendeIdentityServer6EmailEVE OnlineFacebookFACEITFoursquareFreshbooksFusionAuthGitHubGitLabGoogleHubSpotIdentityServer4OverviewInstagramKakaoKeycloakLINELinkedInMailchimpMail.ruMediumNaverNetlifyOktaOneLoginOssoOsu!PatreonPinterestPipedriveRedditSalesforceSlackSpotifyStravaTodoistTraktTwitchTwitterUnited EffectsVKWikimediaWordPress.comWorkOSYandexZitadelZohoZoomAdaptersWarningsErrorsDeploymentGuidesProvidersWorkOSVersion: v4On this pageWorkOSDocumentation\\u200bhttps://workos.com/docs/sso/guideConfiguration\\u200bhttps://dashboard.workos.comOptions\\u200bThe WorkOS Provider comes with a set of default options:WorkOS Provider optionsYou can override any of the options to suit your own use case.Example\\u200bimport WorkOSProvider from \"next-auth/providers/workos\";...providers: [  WorkOSProvider({    clientId: process.env.WORKOS_CLIENT_ID,    clientSecret: process.env.WORKOS_API_KEY,  }),],...WorkOS is not an identity provider itself, but, rather, a bridge to multiple single sign-on (SSO) providers. As a result, we need to make some additional changes to authenticate users using WorkOS.In order to sign a user in using WorkOS, we need to specify which WorkOS Connection to use. A common way to do this is to collect the user\\'s email address and extract the domain.This can be done using a custom login page.To add a custom login page, you can use the pages option:pages/api/auth/[...nextauth].js...  pages: {    signIn: \"/auth/signin\",  }We can then add a custom login page that displays an input where the user can enter their email address. We then extract the domain from the user\\'s email address and pass it to the authorizationParams parameter on the signIn function:pages/auth/signin.jsimport { useState } from \"react\"import { getProviders, signIn } from \"next-auth/react\"export default function SignIn({ providers }) {  const [email, setEmail] = useState(\"\")  return (    <>      {Object.values(providers).map((provider) => {        if (provider.id === \"workos\") {          return (            <div', metadata={'source': 'https://next-auth.js.org/providers/workos', 'title': 'WorkOS | NextAuth.js', 'description': 'Documentation', 'language': 'en'}),\n",
      " Document(page_content='return (            <div key={provider.id}>              <input                type=\"email\"                value={email}                placeholder=\"Email\"                onChange={(event) => setEmail(event.target.value)}              />              <button                onClick={() =>                  signIn(provider.id, undefined, {                    domain: email.split(\"@\")[1],                  })                }              >                Sign in with SSO              </button>            </div>          )        }        return (          <div key={provider.id}>            <button onClick={() => signIn(provider.id)}>              Sign in with {provider.name}            </button>          </div>        )      })}    </>  )}export async function getServerSideProps(context) {  const providers = await getProviders()  return {    props: { providers },  }}Edit this pageLast updated on Apr 17, 2023 by Balázs OrbánPreviousWordPress.comNextYandexDocumentationConfigurationOptionsExampleAbout NextAuth.jsIntroduction', metadata={'source': 'https://next-auth.js.org/providers/workos', 'title': 'WorkOS | NextAuth.js', 'description': 'Documentation', 'language': 'en'}),\n",
      " Document(page_content='DownloadGitHubNPMAcknowledgementsContributorsSponsorsImages by unDrawNextAuth.js © Iain Collins 2023', metadata={'source': 'https://next-auth.js.org/providers/workos', 'title': 'WorkOS | NextAuth.js', 'description': 'Documentation', 'language': 'en'}),\n",
      " Document(page_content='Atlassian | NextAuth.js\\n\\n\\n\\n\\n\\nSkip to main contentNextAuth.js is becoming Auth.js! 🎉 We\\'re creating Authentication for the Web. Everyone included. You are looking at the NextAuth.js (v4) documentation. For the new documentation go to authjs.dev.NextAuth.jsDocumentationTutorialsFAQSecurityv4v4v3All ReleasesnpmGitHubSearchGetting StartedIntroductionGetting StartedClient APIREST APITypeScriptUpgrade Guide (v4)ConfigurationProviders42 SchoolAppleAtlassianAuth0AuthentikAzure Active Directory B2CAzure Active DirectoryBattle.netBoxBoxyHQ SAMLBungieAmazon CognitoCoinbaseCredentialsDiscordDropboxDuendeIdentityServer6EmailEVE OnlineFacebookFACEITFoursquareFreshbooksFusionAuthGitHubGitLabGoogleHubSpotIdentityServer4OverviewInstagramKakaoKeycloakLINELinkedInMailchimpMail.ruMediumNaverNetlifyOktaOneLoginOssoOsu!PatreonPinterestPipedriveRedditSalesforceSlackSpotifyStravaTodoistTraktTwitchTwitterUnited EffectsVKWikimediaWordPress.comWorkOSYandexZitadelZohoZoomAdaptersWarningsErrorsDeploymentGuidesProvidersAtlassianVersion: v4On this pageAtlassianDocumentation\\u200bhttps://developer.atlassian.com/cloud/jira/platform/oauth-2-authorization-code-grants-3lo-for-apps/#implementing-oauth-2-0--3lo-Options\\u200bThe Atlassian Provider comes with a set of default options:Atlassian Provider optionsYou can override any of the options to suit your own use case.Example\\u200bimport AtlassianProvider from \"next-auth/providers/atlassian\";...providers: [  AtlassianProvider({    clientId: process.env.ATLASSIAN_CLIENT_ID,    clientSecret: process.env.ATLASSIAN_CLIENT_SECRET,    authorization: {      params: {        scope: \"write:jira-work read:jira-work read:jira-user offline_access read:me\"      }    }  })]...Instructions\\u200bConfiguration\\u200btipAn app can be created at https://developer.atlassian.com/apps/Under \"Apis and features\" in the side menu, configure the following for \"OAuth 2.0 (3LO)\":Redirect URLhttp://localhost:3000/api/auth/callback/atlassiandangerTo enable access to Jira Platform REST API you must enable User Identity API and add read:me to your provider scope option.Edit this pageLast updated on Apr 17, 2023 by Balázs OrbánPreviousAppleNextAuth0DocumentationOptionsExampleInstructionsConfigurationAbout NextAuth.jsIntroduction\\n\\n\\nDownloadGitHubNPMAcknowledgementsContributorsSponsorsImages by unDrawNextAuth.js © Iain Collins 2023', metadata={'source': 'https://next-auth.js.org/providers/atlassian', 'title': 'Atlassian | NextAuth.js', 'description': 'Documentation', 'language': 'en'}),\n",
      " Document(page_content='Azure Active Directory B2C | NextAuth.js', metadata={'source': 'https://next-auth.js.org/providers/azure-ad-b2c', 'title': 'Azure Active Directory B2C | NextAuth.js', 'description': 'Azure AD B2C returns the following fields on Account:', 'language': 'en'}),\n",
      " Document(page_content=\"Skip to main contentNextAuth.js is becoming Auth.js! 🎉 We're creating Authentication for the Web. Everyone included. You are looking at the NextAuth.js (v4) documentation. For the new documentation go to authjs.dev.NextAuth.jsDocumentationTutorialsFAQSecurityv4v4v3All ReleasesnpmGitHubSearchGetting StartedIntroductionGetting StartedClient APIREST APITypeScriptUpgrade Guide (v4)ConfigurationProviders42 SchoolAppleAtlassianAuth0AuthentikAzure Active Directory B2CAzure Active DirectoryBattle.netBoxBoxyHQ SAMLBungieAmazon CognitoCoinbaseCredentialsDiscordDropboxDuendeIdentityServer6EmailEVE OnlineFacebookFACEITFoursquareFreshbooksFusionAuthGitHubGitLabGoogleHubSpotIdentityServer4OverviewInstagramKakaoKeycloakLINELinkedInMailchimpMail.ruMediumNaverNetlifyOktaOneLoginOssoOsu!PatreonPinterestPipedriveRedditSalesforceSlackSpotifyStravaTodoistTraktTwitchTwitterUnited EffectsVKWikimediaWordPress.comWorkOSYandexZitadelZohoZoomAdaptersWarningsErrorsDeploymentGuidesProvidersAzure Active Directory B2CVersion: v4On this pageAzure Active Directory B2CnoteAzure AD B2C returns the following fields on Account:refresh_token_expires_in (number)not_before (number)id_token_expires_in (number)profile_info (string).See their docs. Remember to add these fields to your database schema, in case if you are using an Adapter.Documentation\\u200bhttps://docs.microsoft.com/azure/active-directory/develop/v2-oauth2-auth-code-flowConfiguration\\u200bhttps://docs.microsoft.com/azure/active-directory-b2c/tutorial-create-tenantOptions\\u200bThe Azure Active Directory Provider comes with a set of default options:Azure Active Directory Provider optionsYou can override any of the options to suit your own use case.Configuration (Basic)\\u200bBasic configuration sets up Azure AD B2C to return an ID Token. This should be done as a prerequisite prior to running through the Advanced configuration.Step 1: Azure AD B2C Tenant\\nhttps://docs.microsoft.com/en-us/azure/active-directory-b2c/tutorial-create-tenantStep 2: App Registration\\nhttps://docs.microsoft.com/en-us/azure/active-directory-b2c/tutorial-register-applicationsStep 3: User Flow\", metadata={'source': 'https://next-auth.js.org/providers/azure-ad-b2c', 'title': 'Azure Active Directory B2C | NextAuth.js', 'description': 'Azure AD B2C returns the following fields on Account:', 'language': 'en'}),\n",
      " Document(page_content='https://docs.microsoft.com/en-us/azure/active-directory-b2c/tutorial-create-user-flowsNote: For the step \"User attributes and token claims\" you might minimally:Collect attribute:Email AddressDisplay NameGiven NameSurnameReturn claim:Email AddressesDisplay NameGiven NameSurnameIdentity ProviderIdentity Provider Access TokenUser\\'s Object IDExample\\u200bIn .env.local create the following entries:AZURE_AD_B2C_TENANT_NAME=<copy the B2C tenant name here from Step 1>AZURE_AD_B2C_CLIENT_ID=<copy Application (client) ID here from Step 2>AZURE_AD_B2C_CLIENT_SECRET=<copy generated secret value here from Step 2>AZURE_AD_B2C_PRIMARY_USER_FLOW=<copy the name of the signin user flow you created from Step 3>In pages/api/auth/[...nextauth].js find or add the AZURE_AD_B2C entries:import AzureADB2CProvider from \"next-auth/providers/azure-ad-b2c\";...providers: [  AzureADB2CProvider({    tenantId: process.env.AZURE_AD_B2C_TENANT_NAME,    clientId: process.env.AZURE_AD_B2C_CLIENT_ID,    clientSecret: process.env.AZURE_AD_B2C_CLIENT_SECRET,    primaryUserFlow: process.env.AZURE_AD_B2C_PRIMARY_USER_FLOW,    authorization: { params: { scope: \"offline_access openid\" } },  }),]...Configuration (Advanced)\\u200bAdvanced configuration sets up Azure AD B2C to return an Authorization Token. This builds on the steps completed in the Basic configuration above.Step 4: Add a Web API application\\nhttps://docs.microsoft.com/en-us/azure/active-directory-b2c/tutorial-single-page-app-webapi?tabs=app-reg-gaNote: this is a second app registration (similar to Step 2) but with different setup and configuration.Example\\u200bNothing in .env.local needs to change here. The only update is in pages/api/auth/[...nextauth].js where you will need to add the additional scopes that were created in Step 4 above:import AzureADB2CProvider from \"next-auth/providers/azure-ad-b2c\";...providers: [  AzureADB2CProvider({    tenantId: process.env.AZURE_AD_B2C_TENANT_NAME,    clientId: process.env.AZURE_AD_B2C_CLIENT_ID,    clientSecret: process.env.AZURE_AD_B2C_CLIENT_SECRET,    primaryUserFlow: process.env.AZURE_AD_B2C_PRIMARY_USER_FLOW,    authorization: { params: { scope: `https://${process.env.AZURE_AD_B2C_TENANT_NAME}.onmicrosoft.com/api/demo.read https://${process.env.AZURE_AD_B2C_TENANT_NAME}.onmicrosoft.com/api/demo.write offline_access openid` } },  }),]...Edit this pageLast updated on Apr 17, 2023 by Balázs OrbánPreviousAuthentikNextAzure Active DirectoryDocumentationConfigurationOptionsConfiguration (Basic)ExampleConfiguration (Advanced)ExampleAbout NextAuth.jsIntroduction', metadata={'source': 'https://next-auth.js.org/providers/azure-ad-b2c', 'title': 'Azure Active Directory B2C | NextAuth.js', 'description': 'Azure AD B2C returns the following fields on Account:', 'language': 'en'})]\n"
     ]
    }
   ],
   "source": [
    "from langchain.text_splitter import RecursiveCharacterTextSplitter\n",
    "\n",
    "text_splitter = RecursiveCharacterTextSplitter.from_tiktoken_encoder(chunk_size=1000, chunk_overlap=20)\n",
    "texts = text_splitter.split_documents(docs)\n",
    "\n",
    "print(f'Number of texts split: {len(texts)}')\n",
    "pprint(texts[:10])"
   ]
  },
  {
   "attachments": {},
   "cell_type": "markdown",
   "metadata": {},
   "source": [
    "Initializing Cohere Embeddings (https://python.langchain.com/en/latest/modules/models/text_embedding/examples/cohere.html)"
   ]
  },
  {
   "cell_type": "code",
   "execution_count": 20,
   "metadata": {},
   "outputs": [],
   "source": [
    "import cohere\n",
    "from langchain.embeddings import CohereEmbeddings\n",
    "\n",
    "embeddings = CohereEmbeddings(cohere_api_key=COHERE_API_KEY)"
   ]
  },
  {
   "attachments": {},
   "cell_type": "markdown",
   "metadata": {},
   "source": [
    "Create embeddings for the split text using Cohere embedding models and storing them in Qdrant vector database (https://python.langchain.com/en/latest/modules/indexes/vectorstores/examples/qdrant.html)"
   ]
  },
  {
   "cell_type": "code",
   "execution_count": 22,
   "metadata": {},
   "outputs": [],
   "source": [
    "from langchain.vectorstores import Qdrant\n",
    "\n",
    "qdrant_url = \"http://localhost:6333/\"\n",
    "qdrant_port = 6333\n",
    "\n",
    "qdrant = Qdrant.from_documents(documents=texts,\n",
    "                               embedding=embeddings, \n",
    "                               url=qdrant_url, \n",
    "                               collection_name=\"langchain_documents\")"
   ]
  },
  {
   "attachments": {},
   "cell_type": "markdown",
   "metadata": {},
   "source": [
    "Retrieving the documents that may contain answer for the query using the qdrant similarity search"
   ]
  },
  {
   "cell_type": "code",
   "execution_count": 23,
   "metadata": {},
   "outputs": [
    {
     "name": "stdout",
     "output_type": "stream",
     "text": [
      "Securing pages and API routes | NextAuth.js\n",
      "https://next-auth.js.org/v3/tutorials/securing-pages-and-api-routes\n"
     ]
    }
   ],
   "source": [
    "import qdrant_client\n",
    "\n",
    "query = \"How to protect backend API route? Give me code for that.\"\n",
    "\n",
    "found_docs = qdrant.similarity_search(query)\n",
    "print(found_docs[0].page_content)\n",
    "print(found_docs[0].metadata['source'])"
   ]
  },
  {
   "attachments": {},
   "cell_type": "markdown",
   "metadata": {},
   "source": [
    "Initializing the Cohere LLM (https://python.langchain.com/en/latest/modules/models/llms/integrations/cohere.html)"
   ]
  },
  {
   "cell_type": "code",
   "execution_count": 24,
   "metadata": {},
   "outputs": [],
   "source": [
    "from langchain.llms import Cohere\n",
    "\n",
    "llm = Cohere(cohere_api_key=COHERE_API_KEY)"
   ]
  },
  {
   "attachments": {},
   "cell_type": "markdown",
   "metadata": {},
   "source": [
    "Creating the Question Answer sources chain using Langchain (https://python.langchain.com/en/latest/modules/chains/index_examples/qa_with_sources.html) to generate the output for the given query"
   ]
  },
  {
   "cell_type": "code",
   "execution_count": 29,
   "metadata": {},
   "outputs": [
    {
     "name": "stdout",
     "output_type": "stream",
     "text": [
      " I don't know.\n"
     ]
    }
   ],
   "source": [
    "from langchain.chains.qa_with_sources import load_qa_with_sources_chain\n",
    "\n",
    "chain = load_qa_with_sources_chain(llm=llm, chain_type=\"stuff\")\n",
    "results = chain.run(input_documents=found_docs, question=query)\n",
    "print(results)\n"
   ]
  },
  {
   "cell_type": "code",
   "execution_count": 30,
   "metadata": {},
   "outputs": [
    {
     "data": {
      "text/plain": [
       "StuffDocumentsChain(memory=None, callbacks=None, callback_manager=None, verbose=False, input_key='input_documents', output_key='output_text', llm_chain=LLMChain(memory=None, callbacks=None, callback_manager=None, verbose=False, prompt=PromptTemplate(input_variables=['summaries', 'question'], output_parser=None, partial_variables={}, template='Given the following extracted parts of a long document and a question, create a final answer with references (\"SOURCES\"). \\nIf you don\\'t know the answer, just say that you don\\'t know. Don\\'t try to make up an answer.\\nALWAYS return a \"SOURCES\" part in your answer.\\n\\nQUESTION: Which state/country\\'s law governs the interpretation of the contract?\\n=========\\nContent: This Agreement is governed by English law and the parties submit to the exclusive jurisdiction of the English courts in  relation to any dispute (contractual or non-contractual) concerning this Agreement save that either party may apply to any court for an  injunction or other relief to protect its Intellectual Property Rights.\\nSource: 28-pl\\nContent: No Waiver. Failure or delay in exercising any right or remedy under this Agreement shall not constitute a waiver of such (or any other)  right or remedy.\\n\\n11.7 Severability. The invalidity, illegality or unenforceability of any term (or part of a term) of this Agreement shall not affect the continuation  in force of the remainder of the term (if any) and this Agreement.\\n\\n11.8 No Agency. Except as expressly stated otherwise, nothing in this Agreement shall create an agency, partnership or joint venture of any  kind between the parties.\\n\\n11.9 No Third-Party Beneficiaries.\\nSource: 30-pl\\nContent: (b) if Google believes, in good faith, that the Distributor has violated or caused Google to violate any Anti-Bribery Laws (as  defined in Clause 8.5) or that such a violation is reasonably likely to occur,\\nSource: 4-pl\\n=========\\nFINAL ANSWER: This Agreement is governed by English law.\\nSOURCES: 28-pl\\n\\nQUESTION: What did the president say about Michael Jackson?\\n=========\\nContent: Madam Speaker, Madam Vice President, our First Lady and Second Gentleman. Members of Congress and the Cabinet. Justices of the Supreme Court. My fellow Americans.  \\n\\nLast year COVID-19 kept us apart. This year we are finally together again. \\n\\nTonight, we meet as Democrats Republicans and Independents. But most importantly as Americans. \\n\\nWith a duty to one another to the American people to the Constitution. \\n\\nAnd with an unwavering resolve that freedom will always triumph over tyranny. \\n\\nSix days ago, Russia’s Vladimir Putin sought to shake the foundations of the free world thinking he could make it bend to his menacing ways. But he badly miscalculated. \\n\\nHe thought he could roll into Ukraine and the world would roll over. Instead he met a wall of strength he never imagined. \\n\\nHe met the Ukrainian people. \\n\\nFrom President Zelenskyy to every Ukrainian, their fearlessness, their courage, their determination, inspires the world. \\n\\nGroups of citizens blocking tanks with their bodies. Everyone from students to retirees teachers turned soldiers defending their homeland.\\nSource: 0-pl\\nContent: And we won’t stop. \\n\\nWe have lost so much to COVID-19. Time with one another. And worst of all, so much loss of life. \\n\\nLet’s use this moment to reset. Let’s stop looking at COVID-19 as a partisan dividing line and see it for what it is: A God-awful disease.  \\n\\nLet’s stop seeing each other as enemies, and start seeing each other for who we really are: Fellow Americans.  \\n\\nWe can’t change how divided we’ve been. But we can change how we move forward—on COVID-19 and other issues we must face together. \\n\\nI recently visited the New York City Police Department days after the funerals of Officer Wilbert Mora and his partner, Officer Jason Rivera. \\n\\nThey were responding to a 9-1-1 call when a man shot and killed them with a stolen gun. \\n\\nOfficer Mora was 27 years old. \\n\\nOfficer Rivera was 22. \\n\\nBoth Dominican Americans who’d grown up on the same streets they later chose to patrol as police officers. \\n\\nI spoke with their families and told them that we are forever in debt for their sacrifice, and we will carry on their mission to restore the trust and safety every community deserves.\\nSource: 24-pl\\nContent: And a proud Ukrainian people, who have known 30 years  of independence, have repeatedly shown that they will not tolerate anyone who tries to take their country backwards.  \\n\\nTo all Americans, I will be honest with you, as I’ve always promised. A Russian dictator, invading a foreign country, has costs around the world. \\n\\nAnd I’m taking robust action to make sure the pain of our sanctions  is targeted at Russia’s economy. And I will use every tool at our disposal to protect American businesses and consumers. \\n\\nTonight, I can announce that the United States has worked with 30 other countries to release 60 Million barrels of oil from reserves around the world.  \\n\\nAmerica will lead that effort, releasing 30 Million barrels from our own Strategic Petroleum Reserve. And we stand ready to do more if necessary, unified with our allies.  \\n\\nThese steps will help blunt gas prices here at home. And I know the news about what’s happening can seem alarming. \\n\\nBut I want you to know that we are going to be okay.\\nSource: 5-pl\\nContent: More support for patients and families. \\n\\nTo get there, I call on Congress to fund ARPA-H, the Advanced Research Projects Agency for Health. \\n\\nIt’s based on DARPA—the Defense Department project that led to the Internet, GPS, and so much more.  \\n\\nARPA-H will have a singular purpose—to drive breakthroughs in cancer, Alzheimer’s, diabetes, and more. \\n\\nA unity agenda for the nation. \\n\\nWe can do this. \\n\\nMy fellow Americans—tonight , we have gathered in a sacred space—the citadel of our democracy. \\n\\nIn this Capitol, generation after generation, Americans have debated great questions amid great strife, and have done great things. \\n\\nWe have fought for freedom, expanded liberty, defeated totalitarianism and terror. \\n\\nAnd built the strongest, freest, and most prosperous nation the world has ever known. \\n\\nNow is the hour. \\n\\nOur moment of responsibility. \\n\\nOur test of resolve and conscience, of history itself. \\n\\nIt is in this moment that our character is formed. Our purpose is found. Our future is forged. \\n\\nWell I know this nation.\\nSource: 34-pl\\n=========\\nFINAL ANSWER: The president did not mention Michael Jackson.\\nSOURCES:\\n\\nQUESTION: {question}\\n=========\\n{summaries}\\n=========\\nFINAL ANSWER:', template_format='f-string', validate_template=True), llm=Cohere(cache=None, verbose=False, callbacks=None, callback_manager=None, client=<cohere.client.Client object at 0x10ae2f970>, model=None, max_tokens=256, temperature=0.75, k=0, p=1, frequency_penalty=0.0, presence_penalty=0.0, truncate=None, cohere_api_key='6J8Kw7kUeaB0JCkrxWoheJtPZa0Cgf41JbPtJvV2', stop=None), output_key='text'), document_prompt=PromptTemplate(input_variables=['page_content', 'source'], output_parser=None, partial_variables={}, template='Content: {page_content}\\nSource: {source}', template_format='f-string', validate_template=True), document_variable_name='summaries', document_separator='\\n\\n')"
      ]
     },
     "execution_count": 30,
     "metadata": {},
     "output_type": "execute_result"
    }
   ],
   "source": []
  },
  {
   "attachments": {},
   "cell_type": "markdown",
   "metadata": {},
   "source": [
    " Create the Retriever QA with sources using Langchain (https://python.langchain.com/en/latest/modules/chains/index_examples/vector_db_qa_with_sources.html) to generate the output for the given query using OpenAI"
   ]
  },
  {
   "cell_type": "code",
   "execution_count": 26,
   "metadata": {},
   "outputs": [
    {
     "name": "stdout",
     "output_type": "stream",
     "text": [
      "{'answer': \"\\nI don't know.\", 'sources': ''}\n"
     ]
    }
   ],
   "source": [
    "from langchain.chains import RetrievalQAWithSourcesChain\n",
    "\n",
    "chain = RetrievalQAWithSourcesChain.from_chain_type(llm, chain_type=\"stuff\", retriever=qdrant.as_retriever())\n",
    "results = chain({\"question\": query}, return_only_outputs=True)\n",
    "print(results)"
   ]
  },
  {
   "attachments": {},
   "cell_type": "markdown",
   "metadata": {},
   "source": [
    "Create a summarization chain to summarize all the retrieved documents  (https://python.langchain.com/en/latest/modules/chains/index_examples/summarize.html)"
   ]
  },
  {
   "cell_type": "code",
   "execution_count": 27,
   "metadata": {},
   "outputs": [
    {
     "name": "stdout",
     "output_type": "stream",
     "text": [
      "The content talks about how to secure API routes using getSession() and getToken() methods. The getSession() method is used to protect API routes and getToken() is used to access the contents of the JWT without having to handle JWT decryption / verification yourself. The content also talks about how to read a JSON Web Token from an API route using the getToken() helper function and how to include all dashboard nested routes (sub pages like /dashboard/settings, /dashboard/profile) by passing matcher: \"/dashboard/:path*\" to config.\n"
     ]
    }
   ],
   "source": [
    "from langchain.chains.summarize import load_summarize_chain\n",
    "from langchain.prompts import PromptTemplate\n",
    "\n",
    "\n",
    "prompt_template = \"\"\"Write a concise summary of the following content. \n",
    "If the content has a python code snippet then return the code along with the summary else mention 'No Code Found'\n",
    "\n",
    "Content: {text}\n",
    "\n",
    "Answer:\n",
    "\"\"\"\n",
    "\n",
    "PROMPT = PromptTemplate(template=prompt_template, input_variables=[\"text\"])\n",
    "\n",
    "chain = load_summarize_chain(llm=llm, chain_type=\"stuff\", prompt=PROMPT)\n",
    "# print(chain.prompt)\n",
    "\n",
    "results = chain.run(input_documents=found_docs, return_only_outputs=False)\n",
    "print(results)"
   ]
  }
 ],
 "metadata": {
  "kernelspec": {
   "display_name": "venv",
   "language": "python",
   "name": "python3"
  },
  "language_info": {
   "codemirror_mode": {
    "name": "ipython",
    "version": 3
   },
   "file_extension": ".py",
   "mimetype": "text/x-python",
   "name": "python",
   "nbconvert_exporter": "python",
   "pygments_lexer": "ipython3",
   "version": "3.10.0"
  },
  "orig_nbformat": 4
 },
 "nbformat": 4,
 "nbformat_minor": 2
}
