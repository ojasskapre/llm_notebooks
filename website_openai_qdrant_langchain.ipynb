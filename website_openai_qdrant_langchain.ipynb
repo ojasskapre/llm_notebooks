{
 "cells": [
  {
   "attachments": {},
   "cell_type": "markdown",
   "metadata": {},
   "source": [
    "The main objectives of this notebook are:\n",
    "\n",
    "1. Loading webpages from a specific domain.\n",
    "2. Embedding the webpage content using OpenAI models.\n",
    "3. Storing the resulting vectors in the Qdrant vector database.\n",
    "4. Retrieving documents similar to a given query.\n",
    "5. Generating output for the query based on the retrieved documents using OpenAI.\n",
    "\n",
    "<br>\n",
    "\n",
    "This is the basic workflow\n",
    "![workflow](images/website_qa.png)\n",
    "\n",
    "<br>\n",
    "Before running this notebook, make sure the Qdrant docker image is running\n",
    "\n",
    "1. Make sure that Docker daemon is installed and running:\n",
    "    ```\n",
    "    sudo docker info\n",
    "    ```\n",
    "2. Pull the image:\n",
    "    ```\n",
    "    docker pull qdrant/qdrant\n",
    "    ```\n",
    "3. Run the container\n",
    "    ```\n",
    "    docker run -p 6333:6333 \\\n",
    "        -v $(pwd)/path/to/data:/qdrant/storage \\\n",
    "        qdrant/qdrant\n",
    "    ```"
   ]
  },
  {
   "cell_type": "code",
   "execution_count": 1,
   "metadata": {},
   "outputs": [],
   "source": [
    "# Uncomment below line of code to Install dependencies\n",
    "# %pip install -r requirements.txt"
   ]
  },
  {
   "cell_type": "code",
   "execution_count": 14,
   "metadata": {},
   "outputs": [
    {
     "name": "stdout",
     "output_type": "stream",
     "text": [
      "/Users/ojaskapre/projects/notebooks\n"
     ]
    }
   ],
   "source": [
    "import sys\n",
    "import os\n",
    "\n",
    "from dotenv import load_dotenv\n",
    "\n",
    "load_dotenv()\n",
    "\n",
    "HUGGINGFACEHUB_API_TOKEN = os.getenv(\"HUGGINGFACEHUB_API_TOKEN\")\n",
    "OPENAI_API_KEY = os.getenv(\"OPENAI_API_KEY\")\n",
    "\n",
    "# Get the absolute path of the current working directory\n",
    "current_dir = os.getcwd()\n",
    "print(current_dir)\n",
    "\n",
    "# Add the current directory to the Python path\n",
    "sys.path.append(current_dir)\n"
   ]
  },
  {
   "cell_type": "code",
   "execution_count": 15,
   "metadata": {},
   "outputs": [],
   "source": [
    "import asyncio\n",
    "import nest_asyncio\n",
    "from pprint import pprint\n",
    "\n",
    "nest_asyncio.apply()"
   ]
  },
  {
   "cell_type": "code",
   "execution_count": 16,
   "metadata": {},
   "outputs": [],
   "source": [
    "from webpagelinkminer import WebPageLinkExtractor\n",
    "\n",
    "# url = \"https://python.langchain.com/en/latest/\"\n",
    "# url = \"https://gpt-index.readthedocs.io/en/latest/\"\n",
    "# url = \"https://docs.sqlalchemy.org/en/20/\"\n",
    "url = \"https://next-auth.js.org/getting-started/introduction\"\n",
    "# url = \"https://flask.palletsprojects.com/en/2.3.x/\"\n",
    "# url = \"https://svelte.dev/docs\"\n",
    "# url = \"https://firebase.google.com/docs\"\n",
    "# url = \"https://www.mysqltutorial.org/\"\n",
    "# url = \"https://nextjs.org/docs\""
   ]
  },
  {
   "attachments": {},
   "cell_type": "markdown",
   "metadata": {},
   "source": [
    "Extract links from same domain using the WebpageLinkMiner library (https://github.com/ojasskapre/WebPageLinkMiner)"
   ]
  },
  {
   "cell_type": "code",
   "execution_count": 17,
   "metadata": {},
   "outputs": [
    {
     "name": "stdout",
     "output_type": "stream",
     "text": [
      "Fetching links from https://next-auth.js.org/getting-started/introduction at depth 0\n",
      "Fetching links from https://next-auth.js.org/ at depth 1\n",
      "Fetching links from https://next-auth.js.org/tutorials at depth 1\n",
      "Fetching links from https://next-auth.js.org/faq at depth 1\n",
      "Fetching links from https://next-auth.js.org/security at depth 1\n",
      "Fetching links from https://next-auth.js.org/v3/getting-started/introduction at depth 1\n",
      "Fetching links from https://next-auth.js.org/getting-started/example at depth 1\n",
      "Fetching links from https://next-auth.js.org/getting-started/client at depth 1\n",
      "Fetching links from https://next-auth.js.org/getting-started/rest-api at depth 1\n",
      "Fetching links from https://next-auth.js.org/getting-started/typescript at depth 1\n",
      "Fetching links from https://next-auth.js.org/getting-started/upgrade-v4 at depth 1\n",
      "Fetching links from https://next-auth.js.org/configuration/initialization at depth 1\n",
      "Fetching links from https://next-auth.js.org/providers/ at depth 1\n",
      "Fetching links from https://next-auth.js.org/adapters at depth 1\n",
      "Fetching links from https://next-auth.js.org/warnings at depth 1\n",
      "Fetching links from https://next-auth.js.org/errors at depth 1\n",
      "Fetching links from https://next-auth.js.org/deployment at depth 1\n",
      "Fetching links from https://next-auth.js.org/guides/ at depth 1\n",
      "Fetching links from https://next-auth.js.org/providers at depth 1\n",
      "Fetching links from https://next-auth.js.org/configuration/providers/oauth at depth 1\n",
      "Fetching links from https://next-auth.js.org/providers/email at depth 1\n",
      "Fetching links from https://next-auth.js.org/configuration/databases at depth 1\n",
      "Fetching links from https://next-auth.js.org/contributors at depth 1\n",
      "Fetching links from https://next-auth.js.org/v3/getting-started/rest-api at depth 2\n",
      "Fetching links from https://next-auth.js.org/configuration/options at depth 2\n",
      "Fetching links from https://next-auth.js.org/configuration/callbacks at depth 2\n",
      "Fetching links from https://next-auth.js.org/v3/getting-started/example at depth 2\n",
      "Fetching links from https://next-auth.js.org/v3/getting-started/client at depth 2\n",
      "Fetching links from https://next-auth.js.org/v3/getting-started/typescript at depth 2\n",
      "Fetching links from https://next-auth.js.org/v3/configuration/options at depth 2\n",
      "Fetching links from https://next-auth.js.org/v3/adapters/overview at depth 2\n",
      "Fetching links from https://next-auth.js.org/v3/providers/42-school at depth 2\n",
      "Fetching links from https://next-auth.js.org/v3/warnings at depth 2\n",
      "Fetching links from https://next-auth.js.org/v3/errors at depth 2\n",
      "Fetching links from https://next-auth.js.org/guides/basics at depth 2\n",
      "Fetching links from https://next-auth.js.org/guides/fullstack at depth 2\n",
      "Fetching links from https://next-auth.js.org/guides/testing at depth 2\n",
      "Fetching links from https://next-auth.js.org/v3/contributors at depth 2\n",
      "Fetching links from https://next-auth.js.org/providers/42-school at depth 2\n",
      "Fetching links from https://next-auth.js.org/providers/apple at depth 2\n",
      "Fetching links from https://next-auth.js.org/providers/atlassian at depth 2\n",
      "Fetching links from https://next-auth.js.org/providers/auth0 at depth 2\n",
      "Fetching links from https://next-auth.js.org/providers/authentik at depth 2\n",
      "Fetching links from https://next-auth.js.org/providers/azure-ad-b2c at depth 2\n",
      "Fetching links from https://next-auth.js.org/providers/azure-ad at depth 2\n",
      "Fetching links from https://next-auth.js.org/providers/battle.net at depth 2\n",
      "Fetching links from https://next-auth.js.org/providers/box at depth 2\n",
      "Fetching links from https://next-auth.js.org/providers/boxyhq-saml at depth 2\n",
      "Fetching links from https://next-auth.js.org/providers/bungie at depth 2\n",
      "Fetching links from https://next-auth.js.org/providers/cognito at depth 2\n",
      "Fetching links from https://next-auth.js.org/providers/coinbase at depth 2\n",
      "Fetching links from https://next-auth.js.org/providers/credentials at depth 2\n",
      "Fetching links from https://next-auth.js.org/providers/discord at depth 2\n",
      "Fetching links from https://next-auth.js.org/providers/dropbox at depth 2\n",
      "Fetching links from https://next-auth.js.org/providers/duende-identityserver6 at depth 2\n",
      "Fetching links from https://next-auth.js.org/providers/eveonline at depth 2\n",
      "Fetching links from https://next-auth.js.org/providers/facebook at depth 2\n",
      "Fetching links from https://next-auth.js.org/providers/faceit at depth 2\n",
      "Fetching links from https://next-auth.js.org/providers/foursquare at depth 2\n",
      "Fetching links from https://next-auth.js.org/providers/freshbooks at depth 2\n",
      "Fetching links from https://next-auth.js.org/providers/fusionauth at depth 2\n",
      "Fetching links from https://next-auth.js.org/providers/github at depth 2\n",
      "Fetching links from https://next-auth.js.org/providers/gitlab at depth 2\n",
      "Fetching links from https://next-auth.js.org/providers/google at depth 2\n",
      "Fetching links from https://next-auth.js.org/providers/hubspot at depth 2\n",
      "Fetching links from https://next-auth.js.org/providers/identity-server4 at depth 2\n",
      "Fetching links from https://next-auth.js.org/providers/instagram at depth 2\n",
      "Fetching links from https://next-auth.js.org/providers/kakao at depth 2\n",
      "Fetching links from https://next-auth.js.org/providers/keycloak at depth 2\n",
      "Fetching links from https://next-auth.js.org/providers/line at depth 2\n",
      "Fetching links from https://next-auth.js.org/providers/linkedin at depth 2\n",
      "Fetching links from https://next-auth.js.org/providers/mailchimp at depth 2\n",
      "Fetching links from https://next-auth.js.org/providers/mailru at depth 2\n",
      "Fetching links from https://next-auth.js.org/providers/medium at depth 2\n",
      "Fetching links from https://next-auth.js.org/providers/naver at depth 2\n",
      "Fetching links from https://next-auth.js.org/providers/netlify at depth 2\n",
      "Fetching links from https://next-auth.js.org/providers/okta at depth 2\n",
      "Fetching links from https://next-auth.js.org/providers/onelogin at depth 2\n",
      "Fetching links from https://next-auth.js.org/providers/osso at depth 2\n",
      "Fetching links from https://next-auth.js.org/providers/osu at depth 2\n",
      "Fetching links from https://next-auth.js.org/providers/patreon at depth 2\n",
      "Fetching links from https://next-auth.js.org/providers/pinterest at depth 2\n",
      "Fetching links from https://next-auth.js.org/providers/pipedrive at depth 2\n",
      "Fetching links from https://next-auth.js.org/providers/reddit at depth 2\n",
      "Fetching links from https://next-auth.js.org/providers/salesforce at depth 2\n",
      "Fetching links from https://next-auth.js.org/providers/slack at depth 2\n",
      "Fetching links from https://next-auth.js.org/providers/spotify at depth 2\n",
      "Fetching links from https://next-auth.js.org/providers/strava at depth 2\n",
      "Fetching links from https://next-auth.js.org/providers/todoist at depth 2\n",
      "Fetching links from https://next-auth.js.org/providers/trakt at depth 2\n",
      "Fetching links from https://next-auth.js.org/providers/twitch at depth 2\n",
      "Fetching links from https://next-auth.js.org/providers/twitter at depth 2\n",
      "Fetching links from https://next-auth.js.org/providers/united-effects at depth 2\n",
      "Fetching links from https://next-auth.js.org/providers/vk at depth 2\n",
      "Fetching links from https://next-auth.js.org/providers/wikimedia at depth 2\n",
      "Fetching links from https://next-auth.js.org/providers/wordpress at depth 2\n",
      "Fetching links from https://next-auth.js.org/providers/workos at depth 2\n",
      "Fetching links from https://next-auth.js.org/providers/yandex at depth 2\n",
      "Fetching links from https://next-auth.js.org/providers/zitadel at depth 2\n",
      "Fetching links from https://next-auth.js.org/providers/zoho at depth 2\n",
      "Fetching links from https://next-auth.js.org/providers/zoom at depth 2\n",
      "Fetching links from https://next-auth.js.org/configuration/providers/email at depth 2\n",
      "Fetching links from https://next-auth.js.org/configuration/providers/credentials at depth 2\n",
      "Fetching links from https://next-auth.js.org/configuration/nextjs at depth 2\n",
      "Fetching links from https://next-auth.js.org/configuration/pages at depth 2\n",
      "Fetching links from https://next-auth.js.org/configuration/events at depth 2\n",
      "Fetching links from https://next-auth.js.org/tutorials/securing-pages-and-api-routes at depth 2\n",
      "Fetching links from https://next-auth.js.org/v3/providers/email at depth 2\n",
      "Fetching links from https://next-auth.js.org/tutorials/creating-a-database-adapter at depth 2\n",
      "Fetching links from https://next-auth.js.org/v3/faq at depth 2\n",
      "Fetching links from https://next-auth.js.org/v3/tutorials at depth 2\n",
      "Fetching links from https://next-auth.js.org at depth 2\n",
      "Fetching links from https://next-auth.js.org/v3/configuration/databases at depth 2\n",
      "Fetching links from https://next-auth.js.org/v3/configuration/callbacks at depth 3\n",
      "Fetching links from https://next-auth.js.org/v3/providers/box at depth 3\n",
      "Fetching links from https://next-auth.js.org/v3/providers/apple at depth 3\n",
      "Fetching links from https://next-auth.js.org/v3/providers/atlassian at depth 3\n",
      "Fetching links from https://next-auth.js.org/v3/providers/auth0 at depth 3\n",
      "Fetching links from https://next-auth.js.org/v3/providers/azure-ad-b2c at depth 3\n",
      "Fetching links from https://next-auth.js.org/v3/providers/basecamp at depth 3\n",
      "Fetching links from https://next-auth.js.org/v3/providers/battle.net at depth 3\n",
      "Fetching links from https://next-auth.js.org/v3/providers/bungie at depth 3\n",
      "Fetching links from https://next-auth.js.org/v3/providers/cognito at depth 3\n",
      "Fetching links from https://next-auth.js.org/v3/providers/coinbase at depth 3\n",
      "Fetching links from https://next-auth.js.org/v3/providers/credentials at depth 3\n",
      "Fetching links from https://next-auth.js.org/v3/providers/discord at depth 3\n",
      "Fetching links from https://next-auth.js.org/v3/providers/dropbox at depth 3\n",
      "Fetching links from https://next-auth.js.org/v3/providers/duende-identityserver6 at depth 3\n",
      "Fetching links from https://next-auth.js.org/v3/providers/eveonline at depth 3\n",
      "Fetching links from https://next-auth.js.org/v3/providers/facebook at depth 3\n",
      "Fetching links from https://next-auth.js.org/v3/providers/faceit at depth 3\n",
      "Fetching links from https://next-auth.js.org/v3/providers/foursquare at depth 3\n",
      "Fetching links from https://next-auth.js.org/v3/providers/fusionauth at depth 3\n",
      "Fetching links from https://next-auth.js.org/v3/providers/github at depth 3\n",
      "Fetching links from https://next-auth.js.org/v3/providers/gitlab at depth 3\n",
      "Fetching links from https://next-auth.js.org/v3/providers/google at depth 3\n",
      "Fetching links from https://next-auth.js.org/v3/providers/identity-server4 at depth 3\n",
      "Fetching links from https://next-auth.js.org/v3/providers/instagram at depth 3\n",
      "Fetching links from https://next-auth.js.org/v3/providers/kakao at depth 3\n",
      "Fetching links from https://next-auth.js.org/v3/providers/line at depth 3\n",
      "Fetching links from https://next-auth.js.org/v3/providers/linkedin at depth 3\n",
      "Fetching links from https://next-auth.js.org/v3/providers/mailchimp at depth 3\n",
      "Fetching links from https://next-auth.js.org/v3/providers/mailru at depth 3\n",
      "Fetching links from https://next-auth.js.org/v3/providers/medium at depth 3\n",
      "Fetching links from https://next-auth.js.org/v3/providers/naver at depth 3\n",
      "Fetching links from https://next-auth.js.org/v3/providers/netlify at depth 3\n",
      "Fetching links from https://next-auth.js.org/v3/providers/okta at depth 3\n",
      "Fetching links from https://next-auth.js.org/v3/providers/osso at depth 3\n",
      "Fetching links from https://next-auth.js.org/v3/providers/reddit at depth 3\n",
      "Fetching links from https://next-auth.js.org/v3/providers/salesforce at depth 3\n",
      "Fetching links from https://next-auth.js.org/v3/providers/slack at depth 3\n",
      "Fetching links from https://next-auth.js.org/v3/providers/spotify at depth 3\n",
      "Fetching links from https://next-auth.js.org/v3/providers/strava at depth 3\n",
      "Fetching links from https://next-auth.js.org/v3/providers/twitch at depth 3\n",
      "Fetching links from https://next-auth.js.org/v3/providers/twitter at depth 3\n",
      "Fetching links from https://next-auth.js.org/v3/providers/vk at depth 3\n",
      "Fetching links from https://next-auth.js.org/v3/providers/wordpress at depth 3\n",
      "Fetching links from https://next-auth.js.org/v3/providers/workos at depth 3\n",
      "Fetching links from https://next-auth.js.org/v3/providers/yandex at depth 3\n",
      "Fetching links from https://next-auth.js.org/v3/providers/zoho at depth 3\n",
      "Fetching links from https://next-auth.js.org/v3/providers/zoom at depth 3\n",
      "Fetching links from https://next-auth.js.org/v3/adapters/pouchdb at depth 3\n",
      "Fetching links from https://next-auth.js.org/tutorials/ldap-auth-example at depth 3\n",
      "Fetching links from https://next-auth.js.org/tutorials/corporate-proxy at depth 3\n",
      "Fetching links from https://next-auth.js.org/tutorials/avoid-corporate-link-checking-email-provider at depth 3\n",
      "Fetching links from https://next-auth.js.org/tutorials/usage-with-class-components at depth 3\n",
      "Fetching links from https://next-auth.js.org/v3/adapters/models at depth 3\n",
      "Fetching links from https://next-auth.js.org/v3/adapters/typeorm/typeorm-overview at depth 3\n",
      "Fetching links from https://next-auth.js.org/v3/adapters/fauna at depth 3\n",
      "Fetching links from https://next-auth.js.org/v3/adapters/prisma at depth 3\n",
      "Fetching links from https://next-auth.js.org/v3/adapters/prisma-legacy at depth 3\n",
      "Fetching links from https://next-auth.js.org/v3/adapters/dynamodb at depth 3\n",
      "Fetching links from https://next-auth.js.org/v3/adapters/firebase at depth 3\n",
      "Fetching links from https://next-auth.js.org/v3/configuration/events at depth 3\n",
      "Fetching links from https://next-auth.js.org/v3/configuration/providers at depth 3\n",
      "Fetching links from https://next-auth.js.org/v3/configuration/pages at depth 3\n",
      "Fetching links from https://next-auth.js.org/tutorials/testing-with-cypress at depth 3\n",
      "Fetching links from https://next-auth.js.org/v3/tutorials/creating-a-database-adapter at depth 3\n",
      "Fetching links from https://next-auth.js.org/v3/tutorials/securing-pages-and-api-routes at depth 3\n",
      "Fetching links from https://next-auth.js.org/v3/adapters/typeorm/mysql at depth 3\n",
      "Fetching links from https://next-auth.js.org/v3/adapters/typeorm/postgres at depth 3\n",
      "Fetching links from https://next-auth.js.org/v3/tutorials/refresh-token-rotation at depth 3\n",
      "Fetching links from https://next-auth.js.org/v3/tutorials/typeorm-custom-models at depth 3\n",
      "Fetching links from https://next-auth.js.org/v3/tutorials/ldap-auth-example at depth 3\n",
      "Fetching links from https://next-auth.js.org/v3/tutorials/testing-with-cypress at depth 3\n",
      "Fetching links from https://next-auth.js.org/v3/tutorials/usage-with-class-components at depth 3\n",
      "Fetching links from https://next-auth.js.org/v3/adapters/typeorm/mssql at depth 4\n",
      "Fetching links from https://next-auth.js.org/v3/adapters/typeorm/mongodb at depth 4\n",
      "Fetching links from https://next-auth.js.org/adapters/fauna at depth 4\n",
      "Fetching links from https://next-auth.js.org/guides at depth 5\n",
      "Fetching links from https://next-auth.js.org/reference at depth 5\n",
      "Fetching links from https://next-auth.js.org/concepts/faq at depth 5\n",
      "Fetching links from https://next-auth.js.org/reference/adapter/fauna at depth 5\n",
      "Fetching links from https://next-auth.js.org/reference/core at depth 5\n",
      "Fetching links from https://next-auth.js.org/reference/sveltekit at depth 5\n",
      "Fetching links from https://next-auth.js.org/reference/solidstart at depth 5\n",
      "Fetching links from https://next-auth.js.org/reference/nextjs at depth 5\n",
      "Fetching links from https://next-auth.js.org/reference/adapters at depth 5\n",
      "Fetching links from https://next-auth.js.org/reference/adapter/dgraph at depth 5\n",
      "Fetching links from https://next-auth.js.org/reference/adapter/dynamodb at depth 5\n",
      "Fetching links from https://next-auth.js.org/reference/adapter/firebase at depth 5\n",
      "Fetching links from https://next-auth.js.org/reference/adapter/mikro-orm at depth 5\n",
      "Fetching links from https://next-auth.js.org/reference/adapter/mongodb at depth 5\n",
      "Fetching links from https://next-auth.js.org/reference/adapter/neo4j at depth 5\n",
      "Fetching links from https://next-auth.js.org/reference/adapter/pouchdb at depth 5\n",
      "Fetching links from https://next-auth.js.org/reference/adapter/prisma at depth 5\n",
      "Fetching links from https://next-auth.js.org/reference/adapter/sequelize at depth 5\n",
      "Fetching links from https://next-auth.js.org/reference/adapter/supabase at depth 5\n",
      "Fetching links from https://next-auth.js.org/reference/adapter/typeorm at depth 5\n",
      "Fetching links from https://next-auth.js.org/reference/adapter/upstash-redis at depth 5\n",
      "Fetching links from https://next-auth.js.org/reference/adapter/xata at depth 5\n",
      "Fetching links from https://next-auth.js.org/reference/warnings at depth 5\n",
      "Error fetching page: https://next-auth.js.org/reference/nextjs - 404, message='Not Found', url=URL('https://next-auth.js.org/reference/nextjs')\n",
      "Error fetching page: https://next-auth.js.org/concepts/faq - 404, message='Not Found', url=URL('https://next-auth.js.org/concepts/faq')\n",
      "Error fetching page: https://next-auth.js.org/reference/adapter/fauna - 404, message='Not Found', url=URL('https://next-auth.js.org/reference/adapter/fauna')\n",
      "Error fetching page: https://next-auth.js.org/reference/core - 404, message='Not Found', url=URL('https://next-auth.js.org/reference/core')\n",
      "Error fetching page: https://next-auth.js.org/reference/adapter/dgraph - 404, message='Not Found', url=URL('https://next-auth.js.org/reference/adapter/dgraph')\n",
      "Error fetching page: https://next-auth.js.org/reference/adapter/firebase - 404, message='Not Found', url=URL('https://next-auth.js.org/reference/adapter/firebase')\n",
      "Error fetching page: https://next-auth.js.org/reference/adapter/typeorm - 404, message='Not Found', url=URL('https://next-auth.js.org/reference/adapter/typeorm')\n",
      "Error fetching page: https://next-auth.js.org/reference/adapter/prisma - 404, message='Not Found', url=URL('https://next-auth.js.org/reference/adapter/prisma')\n",
      "Error fetching page: https://next-auth.js.org/reference/solidstart - 404, message='Not Found', url=URL('https://next-auth.js.org/reference/solidstart')\n",
      "Error fetching page: https://next-auth.js.org/reference/adapter/mikro-orm - 404, message='Not Found', url=URL('https://next-auth.js.org/reference/adapter/mikro-orm')\n",
      "Error fetching page: https://next-auth.js.org/reference/adapter/upstash-redis - 404, message='Not Found', url=URL('https://next-auth.js.org/reference/adapter/upstash-redis')\n",
      "Error fetching page: https://next-auth.js.org/reference/adapter/pouchdb - 404, message='Not Found', url=URL('https://next-auth.js.org/reference/adapter/pouchdb')\n",
      "Error fetching page: https://next-auth.js.org/reference/adapter/dynamodb - 404, message='Not Found', url=URL('https://next-auth.js.org/reference/adapter/dynamodb')\n",
      "Error fetching page: https://next-auth.js.org/reference/adapters - 404, message='Not Found', url=URL('https://next-auth.js.org/reference/adapters')\n",
      "Error fetching page: https://next-auth.js.org/reference/warnings - 404, message='Not Found', url=URL('https://next-auth.js.org/reference/warnings')\n",
      "Error fetching page: https://next-auth.js.org/reference/adapter/supabase - 404, message='Not Found', url=URL('https://next-auth.js.org/reference/adapter/supabase')\n",
      "Error fetching page: https://next-auth.js.org/reference/adapter/sequelize - 404, message='Not Found', url=URL('https://next-auth.js.org/reference/adapter/sequelize')\n",
      "Error fetching page: https://next-auth.js.org/reference - 404, message='Not Found', url=URL('https://next-auth.js.org/reference')\n",
      "Error fetching page: https://next-auth.js.org/reference/adapter/xata - 404, message='Not Found', url=URL('https://next-auth.js.org/reference/adapter/xata')\n",
      "Error fetching page: https://next-auth.js.org/reference/sveltekit - 404, message='Not Found', url=URL('https://next-auth.js.org/reference/sveltekit')\n",
      "Error fetching page: https://next-auth.js.org/reference/adapter/mongodb - 404, message='Not Found', url=URL('https://next-auth.js.org/reference/adapter/mongodb')\n",
      "Error fetching page: https://next-auth.js.org/reference/adapter/neo4j - 404, message='Not Found', url=URL('https://next-auth.js.org/reference/adapter/neo4j')\n",
      "Number of URLs extracted: 212\n",
      "['https://next-auth.js.org/providers/okta',\n",
      " 'https://next-auth.js.org/v3/adapters/typeorm/mysql',\n",
      " 'https://next-auth.js.org/v3/configuration/providers',\n",
      " 'https://next-auth.js.org/adapters',\n",
      " 'https://next-auth.js.org/v3/getting-started/client',\n",
      " 'https://next-auth.js.org/v3/providers/instagram',\n",
      " 'https://next-auth.js.org/tutorials/usage-with-class-components',\n",
      " 'https://next-auth.js.org/providers/',\n",
      " 'https://next-auth.js.org/providers/todoist',\n",
      " 'https://next-auth.js.org/v3/tutorials/testing-with-cypress']\n"
     ]
    }
   ],
   "source": [
    "extractor = WebPageLinkExtractor(url, max_depth=1000, algorithm='dfs')\n",
    "extracted_urls = asyncio.run(extractor.get_links_async())\n",
    "\n",
    "print(f'Number of URLs extracted: {len(extracted_urls)}')\n",
    "pprint(extracted_urls[:10])"
   ]
  },
  {
   "attachments": {},
   "cell_type": "markdown",
   "metadata": {},
   "source": [
    "Loading all the webpage links using Langchain WebBaseLoader (https://python.langchain.com/en/latest/modules/indexes/document_loaders/examples/web_base.html)"
   ]
  },
  {
   "cell_type": "code",
   "execution_count": 18,
   "metadata": {},
   "outputs": [
    {
     "name": "stderr",
     "output_type": "stream",
     "text": [
      "Fetching pages: 100%|##########| 212/212 [00:21<00:00,  9.90it/s]\n"
     ]
    },
    {
     "name": "stdout",
     "output_type": "stream",
     "text": [
      "Number of documents loaded: 212\n",
      "[Document(page_content='\\n\\n\\n\\n\\nOkta | NextAuth.js\\n\\n\\n\\n\\n\\nSkip to main contentNextAuth.js is becoming Auth.js! 🎉 We\\'re creating Authentication for the Web. Everyone included. You are looking at the NextAuth.js (v4) documentation. For the new documentation go to authjs.dev.NextAuth.jsDocumentationTutorialsFAQSecurityv4v4v3All ReleasesnpmGitHubSearchGetting StartedIntroductionGetting StartedClient APIREST APITypeScriptUpgrade Guide (v4)ConfigurationProviders42 SchoolAppleAtlassianAuth0AuthentikAzure Active Directory B2CAzure Active DirectoryBattle.netBoxBoxyHQ SAMLBungieAmazon CognitoCoinbaseCredentialsDiscordDropboxDuendeIdentityServer6EmailEVE OnlineFacebookFACEITFoursquareFreshbooksFusionAuthGitHubGitLabGoogleHubSpotIdentityServer4OverviewInstagramKakaoKeycloakLINELinkedInMailchimpMail.ruMediumNaverNetlifyOktaOneLoginOssoOsu!PatreonPinterestPipedriveRedditSalesforceSlackSpotifyStravaTodoistTraktTwitchTwitterUnited EffectsVKWikimediaWordPress.comWorkOSYandexZitadelZohoZoomAdaptersWarningsErrorsDeploymentGuidesProvidersOktaVersion: v4On this pageOktaDocumentation\\u200bhttps://developer.okta.com/docs/reference/api/oidcOptions\\u200bThe Okta Provider comes with a set of default options:Okta Provider optionsYou can override any of the options to suit your own use case.Example\\u200bimport OktaProvider from \"next-auth/providers/okta\";...providers: [  OktaProvider({    clientId: process.env.OKTA_CLIENT_ID,    clientSecret: process.env.OKTA_CLIENT_SECRET,    issuer: process.env.OKTA_ISSUER  })]...Edit this pageLast updated on Apr 17, 2023 by Balázs OrbánPreviousNetlifyNextOneLoginDocumentationOptionsExampleAbout NextAuth.jsIntroduction\\n\\n\\nDownloadGitHubNPMAcknowledgementsContributorsSponsorsImages by unDrawNextAuth.js © Iain Collins 2023\\n\\n\\n\\n', metadata={'source': 'https://next-auth.js.org/providers/okta', 'title': 'Okta | NextAuth.js', 'description': 'Documentation', 'language': 'en'}),\n",
      " Document(page_content=\"\\n\\n\\n\\n\\nMySQL | NextAuth.js\\n\\n\\n\\n\\n\\nSkip to main contentNextAuth.js is becoming Auth.js! 🎉 We're creating Authentication for the Web. Everyone included. You are looking at the NextAuth.js (v4) documentation. For the new documentation go to authjs.dev.NextAuth.jsDocumentationTutorialsFAQSecurityv3v4v3All ReleasesnpmGitHubSearchGetting StartedIntroductionExample CodeClient APIREST APITypeScriptConfigurationDatabase AdaptersOverviewModelsTypeORMOverviewMySQLPostgresMicrosoft SQL ServerMongoDBFaunaDB AdapterPrisma AdapterPrisma Adapter (Legacy)DynamoDB AdapterFirebase AdapterPouchDB AdapterAuthentication ProvidersWarningsErrorsThis is documentation for NextAuth.js v3, which is no longer actively maintained.For up-to-date documentation, see the latest version (v4).Database AdaptersTypeORMMySQLVersion: v3MySQLSchema for a MySQL database.noteWhen using a MySQL database with the default adapter (TypeORM) all timestamp columns use 6 digits of precision (unless another value for precision is specified in the schema) and the timezone is set to Z (aka Zulu Time / UTC) and all timestamps are stored in UTC.CREATE TABLE accounts  (    id                   INT NOT NULL AUTO_INCREMENT,    compound_id          VARCHAR(255) NOT NULL,    user_id              INTEGER NOT NULL,    provider_type        VARCHAR(255) NOT NULL,    provider_id          VARCHAR(255) NOT NULL,    provider_account_id  VARCHAR(255) NOT NULL,    refresh_token        TEXT,    access_token         TEXT,    access_token_expires TIMESTAMP(6),    created_at           TIMESTAMP(6) NOT NULL DEFAULT CURRENT_TIMESTAMP(6),    updated_at           TIMESTAMP(6) NOT NULL DEFAULT CURRENT_TIMESTAMP(6),    PRIMARY KEY (id)  );CREATE TABLE sessions  (    id            INT NOT NULL AUTO_INCREMENT,    user_id       INTEGER NOT NULL,    expires       TIMESTAMP(6) NOT NULL,    session_token VARCHAR(255) NOT NULL,    access_token  VARCHAR(255) NOT NULL,    created_at    TIMESTAMP(6) NOT NULL DEFAULT CURRENT_TIMESTAMP(6),    updated_at    TIMESTAMP(6) NOT NULL DEFAULT CURRENT_TIMESTAMP(6),    PRIMARY KEY (id)  );CREATE TABLE users  (    id             INT NOT NULL AUTO_INCREMENT,    name           VARCHAR(255),    email          VARCHAR(255),    email_verified TIMESTAMP(6),    image          VARCHAR(255),    created_at     TIMESTAMP(6) NOT NULL DEFAULT CURRENT_TIMESTAMP(6),    updated_at     TIMESTAMP(6) NOT NULL DEFAULT CURRENT_TIMESTAMP(6),    PRIMARY KEY (id)  );CREATE TABLE verification_requests  (    id         INT NOT NULL AUTO_INCREMENT,    identifier VARCHAR(255) NOT NULL,    token      VARCHAR(255) NOT NULL,    expires    TIMESTAMP(6) NOT NULL,    created_at TIMESTAMP(6) NOT NULL DEFAULT CURRENT_TIMESTAMP(6),    updated_at TIMESTAMP(6) NOT NULL DEFAULT CURRENT_TIMESTAMP(6),    PRIMARY KEY (id)  );CREATE UNIQUE INDEX compound_id  ON accounts(compound_id);CREATE INDEX provider_account_id  ON accounts(provider_account_id);CREATE INDEX provider_id  ON accounts(provider_id);CREATE INDEX user_id  ON accounts(user_id);CREATE UNIQUE INDEX session_token  ON sessions(session_token);CREATE UNIQUE INDEX access_token  ON sessions(access_token);CREATE UNIQUE INDEX email  ON users(email);CREATE UNIQUE INDEX token  ON verification_requests(token);Edit this pageLast updated on Apr 17, 2023 by Balázs OrbánPreviousOverviewNextPostgresAbout NextAuth.jsIntroduction\\n\\n\\nDownloadGitHubNPMAcknowledgementsContributorsSponsorsImages by unDrawNextAuth.js © Iain Collins 2023\\n\\n\\n\\n\", metadata={'source': 'https://next-auth.js.org/v3/adapters/typeorm/mysql', 'title': 'MySQL | NextAuth.js', 'description': 'Schema for a MySQL database.', 'language': 'en'}),\n",
      " Document(page_content='\\n\\n\\n\\n\\nProviders | NextAuth.js\\n\\n\\n\\n\\n\\nSkip to main contentNextAuth.js is becoming Auth.js! 🎉 We\\'re creating Authentication for the Web. Everyone included. You are looking at the NextAuth.js (v4) documentation. For the new documentation go to authjs.dev.NextAuth.jsDocumentationTutorialsFAQSecurityv3v4v3All ReleasesnpmGitHubSearchGetting StartedIntroductionExample CodeClient APIREST APITypeScriptConfigurationOptionsProvidersDatabasesPagesCallbacksEventsDatabase AdaptersAuthentication ProvidersWarningsErrorsThis is documentation for NextAuth.js v3, which is no longer actively maintained.For up-to-date documentation, see the latest version (v4).ConfigurationProvidersVersion: v3On this pageProvidersAuthentication Providers in NextAuth.js are services that can be used to sign in a user.There\\'s four ways a user can be signed in:Using a built-in OAuth Provider (e.g Github, Twitter, Google, etc...)Using a custom OAuth ProviderUsing EmailUsing CredentialsnoteNextAuth.js is designed to work with any OAuth service, it supports OAuth 1.0, 1.0A and 2.0 and has built-in support for most popular sign-in services.OAuth Providers\\u200bAvailable providers\\u200b42 School,Amazon Cognito,Apple,Atlassian,Auth0,Authentik,Azure Active Directory,Azure Active Directory B2C,Battle.net,Box,BoxyHQ SAML,Bungie,Coinbase,Discord,Dropbox,DuendeIdentityServer6,EVE Online,Facebook,FACEIT,Foursquare,Freshbooks,FusionAuth,GitHub,GitLab,Google,HubSpot,IdentityServer4,Instagram,Kakao,Keycloak,LINE,LinkedIn,Mail.ru,Mailchimp,Medium,Naver,Netlify,Okta,OneLogin,Osso,Osu!,Patreon,Pinterest,Pipedrive,Reddit,Salesforce,Slack,Spotify,Strava,Todoist,Trakt,Twitch,Twitter,United Effects,VK,Wikimedia,WordPress.com,WorkOS,Yandex,Zitadel,Zoho,Zoom,How to\\u200bRegister your application at the developer portal of your provider. There are links above to the developer docs for most supported providers with details on how to register your application.The redirect URI should follow this format:[origin]/api/auth/callback/[provider]For example, Twitter on localhost this would be:http://localhost:3000/api/auth/callback/twitterCreate a .env file at the root of your project and add the client ID and client secret. For Twitter this would be:TWITTER_ID=YOUR_TWITTER_CLIENT_IDTWITTER_SECRET=YOUR_TWITTER_CLIENT_SECRETNow you can add the provider settings to the NextAuth.js options object. You can add as many OAuth providers as you like, as you can see providers is an array.pages/api/auth/[...nextauth].jsimport Providers from `next-auth/providers`...providers: [  Providers.Twitter({    clientId: process.env.TWITTER_ID,    clientSecret: process.env.TWITTER_SECRET  })],...Once a provider has been setup, you can sign in at the following URL: [origin]/api/auth/signin. This is an unbranded auto-generated page with all the configured providers.Options\\u200bNameDescriptionTypeRequiredidUnique ID for the providerstringYesnameDescriptive name for the providerstringYestypeType of provider, in this case oauth\"oauth\"YesversionOAuth version (e.g. \\'1.0\\', \\'1.0a\\', \\'2.0\\')stringYesscopeOAuth access scopes (expects array or string)string or string[]YesparamsExtra URL params sent when calling accessTokenUrlObjectYesaccessTokenUrlEndpoint to retrieve an access tokenstringYesauthorizationUrlEndpoint to request authorization from the userstringYesrequestTokenUrlEndpoint to retrieve a request tokenstringYesprofileUrlEndpoint to retrieve the user\\'s profilestringYesclientIdClient ID of the OAuth providerstringYesclientSecretClient Secret of the OAuth providerstringYesprofileA callback returning an object with the user\\'s info(profile, tokens) => ObjectYesprotectionAdditional security for OAuth login flows (defaults to state)\"pkce\",\"state\",\"none\"NostateSame as protection: \"state\". Being deprecated, use protection.booleanNoheadersAny headers that should be sent to the OAuth providerObjectNoauthorizationParamsAdditional params to be sent to the authorization endpointObjectNoidTokenSet to true for services that use ID Tokens (e.g. OpenID)booleanNoregionOnly when using BattleNetstringNodomainOnly when using certain ProvidersstringNotenantIdOnly when using Azure, Active Directory, B2C, FusionAuthstringNotipEven if you are using a built-in provider, you can override any of these options to tweak the default configuration.[...nextauth].jsimport Providers from \"next-auth/providers\"Providers.Auth0({  clientId: process.env.CLIENT_ID,  clientSecret: process.env.CLIENT_SECRET,  domain: process.env.DOMAIN,  scope: \"openid your_custom_scope\", // We do provide a default, but this will override it if defined  profile(profile) {    return {} // Return the profile in a shape that is different from the built-in one.  },})Using a custom provider\\u200bYou can use an OAuth provider that isn\\'t built-in by using a custom object.As an example of what this looks like, this is the provider object returned for the Google provider:{  id: \"google\",  name: \"Google\",  type: \"oauth\",  version: \"2.0\",  scope: \"https://www.googleapis.com/auth/userinfo.profile https://www.googleapis.com/auth/userinfo.email\",  params: { grant_type: \"authorization_code\" },  accessTokenUrl: \"https://accounts.google.com/o/oauth2/token\",  requestTokenUrl: \"https://accounts.google.com/o/oauth2/auth\",  authorizationUrl: \"https://accounts.google.com/o/oauth2/auth?response_type=code\",  profileUrl: \"https://www.googleapis.com/oauth2/v1/userinfo?alt=json\",  async profile(profile, tokens) {    // You can use the tokens, in case you want to fetch more profile information    // For example several OAuth providers do not return email by default.    // Depending on your provider, will have tokens like `access_token`, `id_token` and or `refresh_token`    return {      id: profile.id,      name: profile.name,      email: profile.email,      image: profile.picture    }  },  clientId: \"\",  clientSecret: \"\"}Replace all the options in this JSON object with the ones from your custom provider - be sure to give it a unique ID and specify the correct OAuth version - and add it to the providers option when initializing the library:pages/api/auth/[...nextauth].jsimport Providers from `next-auth/providers`...providers: [  Providers.Twitter({    clientId: process.env.TWITTER_ID,    clientSecret: process.env.TWITTER_SECRET,  }),  {    id: \\'customProvider\\',    name: \\'CustomProvider\\',    type: \\'oauth\\',    version: \\'2.0\\',    scope: \\'\\'  // Make sure to request the users email address    ...  }]...Adding a new provider\\u200bIf you think your custom provider might be useful to others, we encourage you to open a PR and add it to the built-in list so others can discover it much more easily!You only need to add two changes:Add your config: src/providers/{provider}.js\\n• make sure you use a named default export, like this: export default function YourProviderAdd provider documentation: www/docs/providers/{provider}.mdAdd it to our provider types (for TS projects)\\n• you just need to add your new provider name to this list\\n• in case you new provider accepts some custom options, you can add them hereThat\\'s it! 🎉 Others will be able to discover this provider much more easily now!Email Provider\\u200bHow to\\u200bThe Email provider uses email to send \"magic links\" that can be used sign in, you will likely have seen them before if you have used software like Slack.Adding support for signing in via email in addition to one or more OAuth services provides a way for users to sign in if they lose access to their OAuth account (e.g. if it is locked or deleted).Configuration is similar to other providers, but the options are different:pages/api/auth/[...nextauth].jsimport Providers from `next-auth/providers`...providers: [  Providers.Email({    server: process.env.EMAIL_SERVER,    from: process.env.EMAIL_FROM,    // maxAge: 24 * 60 * 60, // How long email links are valid for (default 24h)  }),],...See the Email provider documentation for more information on how to configure email sign in.noteThe email provider requires a database, it cannot be used without one.Options\\u200bNameDescriptionTypeRequiredidUnique ID for the providerstringYesnameDescriptive name for the providerstringYestypeType of provider, in this case email\"email\"YesserverPath or object pointing to the email serverstring or ObjectYessendVerificationRequestCallback to execute when a verification request is sent(params) => Promise<undefined>YesfromThe email address from which emails are sent, default: \"no-reply@example.com\"stringNomaxAgeHow long until the e-mail can be used to log the user in seconds. Defaults to 1 daynumberNoCredentials Provider\\u200bHow to\\u200bThe Credentials provider allows you to handle signing in with arbitrary credentials, such as a username and password, two factor authentication or hardware device (e.g. YubiKey U2F / FIDO).It is intended to support use cases where you have an existing system you need to authenticate users against.pages/api/auth/[...nextauth].jsimport Providers from `next-auth/providers`...providers: [  Providers.Credentials({    // The name to display on the sign in form (e.g. \\'Sign in with...\\')    name: \\'Credentials\\',    // The credentials is used to generate a suitable form on the sign in page.    // You can specify whatever fields you are expecting to be submitted.    // e.g. domain, username, password, 2FA token, etc.    credentials: {      username: { label: \"Username\", type: \"text\", placeholder: \"jsmith\" },      password: {  label: \"Password\", type: \"password\" }    },    async authorize(credentials, req) {      // You need to provide your own logic here that takes the credentials      // submitted and returns either a object representing a user or value      // that is false/null if the credentials are invalid.      // e.g. return { id: 1, name: \\'J Smith\\', email: \\'jsmith@example.com\\' }      // You can also use the `req` object to obtain additional parameters      // (i.e., the request IP address)      const res = await fetch(\"/your/endpoint\", {        method: \\'POST\\',        body: JSON.stringify(credentials),        headers: { \"Content-Type\": \"application/json\" }      })      const user = await res.json()      // If no error and we have user data, return it      if (res.ok && user) {        return user      }      // Return null if user data could not be retrieved      return null    }  })]...See the Credentials provider documentation for more information.noteThe Credentials provider can only be used if JSON Web Tokens are enabled for sessions. Users authenticated with the Credentials provider are not persisted in the database.Options\\u200bNameDescriptionTypeRequiredidUnique ID for the providerstringYesnameDescriptive name for the providerstringYestypeType of provider, in this case credentials\"credentials\"YescredentialsThe credentials to sign-in withObjectYesauthorizeCallback to execute once user is to be authorized(credentials, req) => Promise<User>YesEdit this pageLast updated on Apr 17, 2023 by Balázs OrbánPreviousOptionsNextDatabasesOAuth ProvidersAvailable providersHow toOptionsUsing a custom providerAdding a new providerEmail ProviderHow toOptionsCredentials ProviderHow toOptionsAbout NextAuth.jsIntroduction\\n\\n\\nDownloadGitHubNPMAcknowledgementsContributorsSponsorsImages by unDrawNextAuth.js © Iain Collins 2023\\n\\n\\n\\n', metadata={'source': 'https://next-auth.js.org/v3/configuration/providers', 'title': 'Providers | NextAuth.js', 'description': 'Authentication Providers in NextAuth.js are services that can be used to sign in a user.', 'language': 'en'}),\n",
      " Document(page_content=\"\\n\\n\\n\\n\\nAdapters | NextAuth.js\\n\\n\\n\\n\\n\\nSkip to main contentNextAuth.js is becoming Auth.js! 🎉 We're creating Authentication for the Web. Everyone included. You are looking at the NextAuth.js (v4) documentation. For the new documentation go to authjs.dev.NextAuth.jsDocumentationTutorialsFAQSecurityv4v4v3All ReleasesnpmGitHubSearchGetting StartedIntroductionGetting StartedClient APIREST APITypeScriptUpgrade Guide (v4)ConfigurationProvidersAdaptersWarningsErrorsDeploymentGuidesAdaptersVersion: v4AdaptersVisit the authjs.dev page for the up-to-date documentation.DgraphDynamoDBFaunaFirebaseMongoDBPrismaTypeORMMikroORMneo4jPouchDBSequelizeSupabaseUpstash RedisXataEdit this pageLast updated on Apr 17, 2023 by Balázs OrbánPreviousZoomNextWarningsAbout NextAuth.jsIntroduction\\n\\n\\nDownloadGitHubNPMAcknowledgementsContributorsSponsorsImages by unDrawNextAuth.js © Iain Collins 2023\\n\\n\\n\\n\", metadata={'source': 'https://next-auth.js.org/adapters', 'title': 'Adapters | NextAuth.js', 'description': 'Visit the authjs.dev page for the up-to-date documentation.', 'language': 'en'}),\n",
      " Document(page_content='\\n\\n\\n\\n\\nClient API | NextAuth.js\\n\\n\\n\\n\\n\\nSkip to main contentNextAuth.js is becoming Auth.js! 🎉 We\\'re creating Authentication for the Web. Everyone included. You are looking at the NextAuth.js (v4) documentation. For the new documentation go to authjs.dev.NextAuth.jsDocumentationTutorialsFAQSecurityv3v4v3All ReleasesnpmGitHubSearchGetting StartedIntroductionExample CodeClient APIREST APITypeScriptConfigurationDatabase AdaptersAuthentication ProvidersWarningsErrorsThis is documentation for NextAuth.js v3, which is no longer actively maintained.For up-to-date documentation, see the latest version (v4).Getting StartedClient APIVersion: v3On this pageClient APIThe NextAuth.js client library makes it easy to interact with sessions from React applications.Example Session Object\\u200b{  user: {    name: string,    email: string,    image: uri  },  accessToken: string,  expires: \"YYYY-MM-DDTHH:mm:ss.SSSZ\"}tipThe session data returned to the client does not contain sensitive information such as the Session Token or OAuth tokens. It contains a minimal payload that includes enough data needed to display information on a page about the user who is signed in for presentation purposes (e.g name, email, image).You can use the session callback to customize the session object returned to the client if you need to return additional data in the session object.useSession()\\u200bClient Side: YesServer Side: NoThe useSession() React Hook in the NextAuth.js client is the easiest way to check if someone is signed in.It works best when the <Provider> is added to pages/_app.js.Example\\u200bimport { useSession } from \"next-auth/client\"export default function Component() {  const [session, loading] = useSession()  if (session) {    return <p>Signed in as {session.user.email}</p>  }  return <a href=\"/api/auth/signin\">Sign in</a>}getSession()\\u200bClient Side: YesServer Side: YesNextAuth.js provides a getSession() method which can be called client or server side to return a session.It calls /api/auth/session and returns a promise with a session object, or null if no session exists.Client Side Example\\u200basync function myFunction() {  const session = await getSession()  /* ... */}Server Side Example\\u200bimport { getSession } from \"next-auth/client\"export default async (req, res) => {  const session = await getSession({ req })  /* ... */  res.end()}noteWhen calling getSession() server side, you need to pass {req} or context object.The tutorial securing pages and API routes shows how to use getSession() in server side calls.getCsrfToken()\\u200bClient Side: YesServer Side: YesThe getCsrfToken() method returns the current Cross Site Request Forgery Token (CSRF Token) required to make POST requests (e.g. for signing in and signing out).You likely only need to use this if you are not using the built-in signIn() and signOut() methods.Client Side Example\\u200basync function myFunction() {  const csrfToken = await getCsrfToken()  /* ... */}Server Side Example\\u200bimport { getCsrfToken } from \"next-auth/client\"export default async (req, res) => {  const csrfToken = await getCsrfToken({ req })  /* ... */  res.end()}getProviders()\\u200bClient Side: YesServer Side: YesThe getProviders() method returns the list of providers currently configured for sign in.It calls /api/auth/providers and returns a list of the currently configured authentication providers.It can be useful if you are creating a dynamic custom sign in page.API Route\\u200bpages/api/example.jsimport { getProviders } from \"next-auth/client\"export default async (req, res) => {  const providers = await getProviders()  console.log(\"Providers\", providers)  res.end()}noteUnlike getSession() and getCsrfToken(), when calling getProviders() server side, you don\\'t need to pass anything, just as calling it client side.signIn()\\u200bClient Side: YesServer Side: NoUsing the signIn() method ensures the user ends back on the page they started on after completing a sign in flow. It will also handle CSRF Tokens for you automatically when signing in with email.The signIn() method can be called from the client in different ways, as shown below.Redirects to sign in page when clicked\\u200bimport { signIn } from \"next-auth/client\"export default () => <button onClick={() => signIn()}>Sign in</button>Starts Google OAuth sign-in flow when clicked\\u200bimport { signIn } from \"next-auth/client\"export default () => (  <button onClick={() => signIn(\"google\")}>Sign in with Google</button>)Starts Email sign-in flow when clicked\\u200bWhen using it with the email flow, pass the target email as an option.import { signIn } from \"next-auth/client\"export default ({ email }) => (  <button onClick={() => signIn(\"email\", { email })}>Sign in with Email</button>)Specifying a callbackUrl\\u200bThe callbackUrl specifies to which URL the user will be redirected after signing in. It defaults to the current URL of a user.You can specify a different callbackUrl by specifying it as the second argument of signIn(). This works for all providers.e.g.signIn(null, { callbackUrl: \\'http://localhost:3000/foo\\' })signIn(\\'google\\', { callbackUrl: \\'http://localhost:3000/foo\\' })signIn(\\'email\\', { email, callbackUrl: \\'http://localhost:3000/foo\\' })The URL must be considered valid by the redirect callback handler. By default it requires the URL to be an absolute URL at the same hostname, or else it will redirect to the homepage. You can define your own redirect callback to allow other URLs, including supporting relative URLs.Using the redirect: false option\\u200bnoteThe redirect option is only available for credentials and email providers.In some cases, you might want to deal with the sign in response on the same page and disable the default redirection. For example, if an error occurs (like wrong credentials given by the user), you might want to handle the error on the same page. For that, you can pass redirect: false in the second parameter object.e.g.signIn(\\'credentials\\', { redirect: false, password: \\'password\\' })signIn(\\'email\\', { redirect: false, email: \\'bill@fillmurray.com\\' })signIn will then return a Promise, that resolves to the following:{  /**   * Will be different error codes,   * depending on the type of error.   */  error: string | undefined  /**   * HTTP status code,   * hints the kind of error that happened.   */  status: number  /**   * `true` if the signin was successful   */  ok: boolean  /**   * `null` if there was an error,   * otherwise the url the user   * should have been redirected to.   */  url: string | null}Additional params\\u200bIt is also possible to pass additional parameters to the /authorize endpoint through the third argument of signIn().See the Authorization Request OIDC spec for some ideas. (These are not the only possible ones, all parameters will be forwarded)e.g.signIn(\"identity-server4\", null, { prompt: \"login\" }) always ask the user to reauthenticatesignIn(\"auth0\", null, { login_hint: \"info@example.com\" }) hints the e-mail address to the providernoteYou can also set these parameters through provider.authorizationParams.noteThe following parameters are always overridden server-side: redirect_uri, statesignOut()\\u200bClient Side: YesServer Side: NoUsing the signOut() method ensures the user ends back on the page they started on after completing the sign out flow. It also handles CSRF tokens for you automatically.It reloads the page in the browser when complete.import { signOut } from \"next-auth/client\"export default () => <button onClick={() => signOut()}>Sign out</button>Specifying a callbackUrl\\u200bAs with the signIn() function, you can specify a callbackUrl parameter by passing it as an option.e.g. signOut({ callbackUrl: \\'http://localhost:3000/foo\\' })The URL must be considered valid by the redirect callback handler. By default this means it must be an absolute URL at the same hostname (or else it will default to the homepage); you can define your own custom redirect callback to allow other URLs, including supporting relative URLs.Using the redirect: false option\\u200bIf you pass redirect: false to signOut, the page will not reload. The session will be deleted, and the useSession hook is notified, so any indication about the user will be shown as logged out automatically. It can give a very nice experience for the user.tipIf you need to redirect to another page but you want to avoid a page reload, you can try:\\nconst data = await signOut({redirect: false, callbackUrl: \"/foo\"})\\nwhere data.url is the validated url you can redirect the user to without any flicker by using Next.js\\'s useRouter().push(data.url)Provider\\u200bUsing the supplied React <Provider> allows instances of useSession() to share the session object across components, by using React Context under the hood.This improves performance, reduces network calls and avoids page flicker when rendering. It is highly recommended and can be easily added to all pages in Next.js apps by using pages/_app.js.pages/_app.jsimport { Provider } from \"next-auth/client\"export default function App({ Component, pageProps }) {  return (    <Provider session={pageProps.session}>      <Component {...pageProps} />    </Provider>  )}If you pass the session page prop to the <Provider> – as in the example above – you can avoid checking the session twice on pages that support both server and client side rendering.This only works on pages where you provide the correct pageProps, however. This is normally done in getInitialProps or getServerSideProps like so:pages/index.jsimport { getSession } from \"next-auth/client\"...export async function getServerSideProps(ctx) {  return {    props: {      session: await getSession(ctx)    }  }}If every one of your pages needs to be protected, you can do this in _app, otherwise you can do it on a page-by-page basis. Alternatively, you can do per page authentication checks client side, instead of having each auth check be blocking (SSR) by using the method described below in alternative client session handling.Options\\u200bThe session state is automatically synchronized across all open tabs/windows and they are all updated whenever they gain or lose focus or the state changes in any of them (e.g. a user signs in or out).If you have session expiry times of 30 days (the default) or more then you probably don\\'t need to change any of the default options in the Provider. If you need to, you can can trigger an update of the session object across all tabs/windows by calling getSession() from a client side function.However, if you need to customise the session behaviour and/or are using short session expiry times, you can pass options to the provider to customise the behaviour of the useSession() hook.pages/_app.jsimport { Provider } from \\'next-auth/client\\'export default function App ({ Component, pageProps }) {  return (    <Provider session={pageProps.session}      options={{        clientMaxAge: 60     // Re-fetch session if cache is older than 60 seconds        keepAlive:    5 * 60 // Send keepAlive message every 5 minutes      }}      >      <Component {...pageProps} />    </Provider>  )}noteThese options have no effect on clients that are not signed in.Every tab/window maintains its own copy of the local session state; the session is not stored in shared storage like localStorage or sessionStorage. Any update in one tab/window triggers a message to other tabs/windows to update their own session state.Using low values for clientMaxAge or keepAlive will increase network traffic and load on authenticated clients and may impact hosting costs and performance.Client Max Age\\u200bThe clientMaxAge option is the maximum age a session data can be on the client before it is considered stale.When clientMaxAge is set to 0 (the default) the cache will always be used when useSession is called and only explicit calls made to get the session status (i.e. getSession()) or event triggers, such as signing in or out in another tab/window, or a tab/window gaining or losing focus, will trigger an update of the session state.If set to any value other than zero, it specifies in seconds the maximum age of session data on the client before the useSession() hook will call the server again to sync the session state.Unless you have a short session expiry time (e.g. < 24 hours) you probably don\\'t need to change this option. Setting this option to too short a value will increase load (and potentially hosting costs).The value for clientMaxAge should always be lower than the value of the session maxAge option.Keep Alive\\u200bThe keepAlive option is how often the client should contact the server to avoid a session expiring.When keepAlive is set to 0 (the default) it will not send a keep alive message.If set to any value other than zero, it specifies in seconds how often the client should contact the server to update the session state. If the session state has expired when it is triggered, all open tabs/windows will be updated to reflect this.The value for keepAlive should always be lower than the value of the session maxAge option.noteSee the Next.js documentation for more information on _app.js in Next.js applications.Alternatives\\u200bCustom Client Session Handling\\u200bDue to the way Next.js handles getServerSideProps / getInitialProps, every protected page load has to make a server-side query to check if the session is valid and then generate the requested page. This alternative solution allows for showing a loading state on the initial check and every page transition afterward will be client-side, without having to check with the server and regenerate pages.pages/admin.jsxexport default function AdminDashboard() {  const [session] = useSession()  // session is always non-null inside this page, all the way down the React tree.  return \"Some super secret dashboard\"}AdminDashboard.auth = truepages/_app.jsxexport default function App({ Component, pageProps }) {  return (    <Provider session={pageProps.session}>      {Component.auth ? (        <Auth>          <Component {...pageProps} />        </Auth>      ) : (        <Component {...pageProps} />      )}    </Provider>  )}function Auth({ children }) {  const [session, loading] = useSession()  const isUser = !!session?.user  React.useEffect(() => {    if (loading) return // Do nothing while loading    if (!isUser) signIn() // If not authenticated, force log in  }, [isUser, loading])  if (isUser) {    return children  }  // Session is being fetched, or no user.  // If no user, useEffect() will redirect.  return <div>Loading...</div>}It can be easily be extended/modified to support something like an options object for role based authentication on pages. An example:pages/admin.jsxAdminDashboard.auth = {  role: \"admin\",  loading: <AdminLoadingSkeleton />,  unauthorized: \"/login-with-different-user\", // redirect to this url}Because of how _app is done, it won\\'t unnecessarily contact the /api/auth/session endpoint for pages that do not require auth.More information can be found in the following Github Issue.NextAuth.js + React-Query\\u200bThere is also an alternative client-side API library based upon react-query available under nextauthjs/react-query.If you use react-query in your project already, you can leverage it with NextAuth.js to handle the client-side session management for you as well. This replaces NextAuth.js\\'s native useSession and Provider from next-auth/client.See repository README for more details.Edit this pageLast updated on Apr 17, 2023 by Balázs OrbánPreviousExample CodeNextREST APIuseSession()getSession()getCsrfToken()getProviders()signIn()signOut()ProviderOptionsAlternativesCustom Client Session HandlingNextAuth.js + React-QueryAbout NextAuth.jsIntroduction\\n\\n\\nDownloadGitHubNPMAcknowledgementsContributorsSponsorsImages by unDrawNextAuth.js © Iain Collins 2023\\n\\n\\n\\n', metadata={'source': 'https://next-auth.js.org/v3/getting-started/client', 'title': 'Client API | NextAuth.js', 'description': 'The NextAuth.js client library makes it easy to interact with sessions from React applications.', 'language': 'en'}),\n",
      " Document(page_content='\\n\\n\\n\\n\\nInstagram | NextAuth.js\\n\\n\\n\\n\\n\\nSkip to main contentNextAuth.js is becoming Auth.js! 🎉 We\\'re creating Authentication for the Web. Everyone included. You are looking at the NextAuth.js (v4) documentation. For the new documentation go to authjs.dev.NextAuth.jsDocumentationTutorialsFAQSecurityv3v4v3All ReleasesnpmGitHubSearchGetting StartedIntroductionExample CodeClient APIREST APITypeScriptConfigurationDatabase AdaptersAuthentication Providers42 SchoolAppleAtlassianAuth0Azure Active Directory B2CBasecampBattle.netBoxBungieAmazon CognitoCoinbaseCredentialsDiscordDropboxDuendeIdentityServer6EmailEVE OnlineFacebookFACEITFoursquareFusionAuthGitHubGitLabGoogleIdentityServer4InstagramKakaoLINELinkedInMailchimpMail.ruMediumNaverNetlifyOktaOssoRedditSalesforceSlackSpotifyStravaTwitchTwitterVKWordPress.comWorkOSYandexZohoZoomWarningsErrorsThis is documentation for NextAuth.js v3, which is no longer actively maintained.For up-to-date documentation, see the latest version (v4).Authentication ProvidersInstagramVersion: v3On this pageInstagramDocumentation\\u200bhttps://developers.facebook.com/docs/instagram-basic-display-api/getting-startedConfiguration\\u200bhttps://developers.facebook.com/apps/Options\\u200bThe Instagram Provider comes with a set of default options:Instagram Provider optionsYou can override any of the options to suit your own use case.Example\\u200b// pages/api/auth/[...nextauth].jsimport Providers from `next-auth/providers`...providers: [  Providers.Instagram({    clientId: process.env.INSTAGRAM_CLIENT_ID,    clientSecret: process.env.INSTAGRAM_CLIENT_SECRET  })]...// pages/index.jsximport { signIn } from \"next-auth/client\"...<button onClick={() => signIn(\"instagram\")}>  Sign in</button>...dangerEmail address is not returned by the Instagram API.tipInstagram display app required callback URL to be configured in your Facebook app and Facebook required you to use https even for localhost! In order to do that, you either need to add an SSL to your localhost or use a proxy such as ngrok.Edit this pageLast updated on Apr 17, 2023 by Balázs OrbánPreviousIdentityServer4NextKakaoDocumentationConfigurationOptionsExampleAbout NextAuth.jsIntroduction\\n\\n\\nDownloadGitHubNPMAcknowledgementsContributorsSponsorsImages by unDrawNextAuth.js © Iain Collins 2023\\n\\n\\n\\n', metadata={'source': 'https://next-auth.js.org/v3/providers/instagram', 'title': 'Instagram | NextAuth.js', 'description': 'Documentation', 'language': 'en'}),\n",
      " Document(page_content='\\n\\n\\n\\n\\nUsage with class components | NextAuth.js\\n\\n\\n\\n\\n\\nSkip to main contentNextAuth.js is becoming Auth.js! 🎉 We\\'re creating Authentication for the Web. Everyone included. You are looking at the NextAuth.js (v4) documentation. For the new documentation go to authjs.dev.NextAuth.jsDocumentationTutorialsFAQSecurityv4v4v3All ReleasesnpmGitHubSearchVersion: v4On this pageUsage with class componentsIf you want to use the useSession() hook in your class components you can do so with the help of a higher order component or with a render prop.Higher Order Component\\u200bimport { useSession } from \"next-auth/react\"const withSession = (Component) => (props) => {  const session = useSession()  // if the component has a render property, we are good  if (Component.prototype.render) {    return <Component session={session} {...props} />  }  // if the passed component is a function component, there is no need for this wrapper  throw new Error(    [      \"You passed a function component, `withSession` is not needed.\",      \"You can `useSession` directly in your component.\",    ].join(\"\\\\n\")  )}// Usageclass ClassComponent extends React.Component {  render() {    const { data: session, status } = this.props.session    return null  }}const ClassComponentWithSession = withSession(ClassComponent)Render Prop\\u200bimport { useSession } from \"next-auth/react\"const UseSession = ({ children }) => {  const session = useSession()  return children(session)}// Usageclass ClassComponent extends React.Component {  render() {    return (      <UseSession>        {(session) => <pre>{JSON.stringify(session, null, 2)}</pre>}      </UseSession>    )  }}Edit this pageLast updated on Apr 17, 2023 by Balázs OrbánHigher Order ComponentRender PropAbout NextAuth.jsIntroduction\\n\\n\\nDownloadGitHubNPMAcknowledgementsContributorsSponsorsImages by unDrawNextAuth.js © Iain Collins 2023\\n\\n\\n\\n', metadata={'source': 'https://next-auth.js.org/tutorials/usage-with-class-components', 'title': 'Usage with class components | NextAuth.js', 'description': 'If you want to use the useSession() hook in your class components you can do so with the help of a higher order component or with a render prop.', 'language': 'en'}),\n",
      " Document(page_content=\"\\n\\n\\n\\n\\nOverview | NextAuth.js\\n\\n\\n\\n\\n\\nSkip to main contentNextAuth.js is becoming Auth.js! 🎉 We're creating Authentication for the Web. Everyone included. You are looking at the NextAuth.js (v4) documentation. For the new documentation go to authjs.dev.NextAuth.jsDocumentationTutorialsFAQSecurityv4v4v3All ReleasesnpmGitHubSearchGetting StartedIntroductionGetting StartedClient APIREST APITypeScriptUpgrade Guide (v4)ConfigurationProviders42 SchoolAppleAtlassianAuth0AuthentikAzure Active Directory B2CAzure Active DirectoryBattle.netBoxBoxyHQ SAMLBungieAmazon CognitoCoinbaseCredentialsDiscordDropboxDuendeIdentityServer6EmailEVE OnlineFacebookFACEITFoursquareFreshbooksFusionAuthGitHubGitLabGoogleHubSpotIdentityServer4OverviewInstagramKakaoKeycloakLINELinkedInMailchimpMail.ruMediumNaverNetlifyOktaOneLoginOssoOsu!PatreonPinterestPipedriveRedditSalesforceSlackSpotifyStravaTodoistTraktTwitchTwitterUnited EffectsVKWikimediaWordPress.comWorkOSYandexZitadelZohoZoomAdaptersWarningsErrorsDeploymentGuidesProvidersVersion: v4OverviewAuthentication Providers in NextAuth.js are services that can be used to sign in a user.There are four ways a user can be signed in:Using a built-in OAuth Provider (e.g Github, Twitter, Google, etc...)Using a custom OAuth ProviderUsing EmailUsing CredentialsnoteNextAuth.js is designed to work with any OAuth service, it supports OAuth 1.0, 1.0A, 2.0 and OpenID Connect (OIDC) and has built-in support for most popular sign-in services.Edit this pageLast updated on Apr 17, 2023 by Balázs OrbánPreviousNext.jsNext42 SchoolAbout NextAuth.jsIntroduction\\n\\n\\nDownloadGitHubNPMAcknowledgementsContributorsSponsorsImages by unDrawNextAuth.js © Iain Collins 2023\\n\\n\\n\\n\", metadata={'source': 'https://next-auth.js.org/providers/', 'title': 'Overview | NextAuth.js', 'description': 'Authentication Providers in NextAuth.js are services that can be used to sign in a user.', 'language': 'en'}),\n",
      " Document(page_content='\\n\\n\\n\\n\\nTodoist | NextAuth.js\\n\\n\\n\\n\\n\\nSkip to main contentNextAuth.js is becoming Auth.js! 🎉 We\\'re creating Authentication for the Web. Everyone included. You are looking at the NextAuth.js (v4) documentation. For the new documentation go to authjs.dev.NextAuth.jsDocumentationTutorialsFAQSecurityv4v4v3All ReleasesnpmGitHubSearchGetting StartedIntroductionGetting StartedClient APIREST APITypeScriptUpgrade Guide (v4)ConfigurationProviders42 SchoolAppleAtlassianAuth0AuthentikAzure Active Directory B2CAzure Active DirectoryBattle.netBoxBoxyHQ SAMLBungieAmazon CognitoCoinbaseCredentialsDiscordDropboxDuendeIdentityServer6EmailEVE OnlineFacebookFACEITFoursquareFreshbooksFusionAuthGitHubGitLabGoogleHubSpotIdentityServer4OverviewInstagramKakaoKeycloakLINELinkedInMailchimpMail.ruMediumNaverNetlifyOktaOneLoginOssoOsu!PatreonPinterestPipedriveRedditSalesforceSlackSpotifyStravaTodoistTraktTwitchTwitterUnited EffectsVKWikimediaWordPress.comWorkOSYandexZitadelZohoZoomAdaptersWarningsErrorsDeploymentGuidesProvidersTodoistVersion: v4On this pageTodoistDocumentation\\u200bhttps://developer.todoist.com/guides/#oauthConfiguration\\u200bhttps://developer.todoist.com/appconsole.htmlOptions\\u200bThe Todoist Provider comes with a set of default options:Todoist Provider optionsYou can override any of the options to suit your own use case.Example\\u200bimport TodoistProvider from \"next-auth/providers/todoist\";...providers: [  TodoistProvider({    clientId: process.env.TODOIST_ID,    clientSecret: process.env.TODOIST_SECRET  })]...Edit this pageLast updated on Apr 17, 2023 by Balázs OrbánPreviousStravaNextTraktDocumentationConfigurationOptionsExampleAbout NextAuth.jsIntroduction\\n\\n\\nDownloadGitHubNPMAcknowledgementsContributorsSponsorsImages by unDrawNextAuth.js © Iain Collins 2023\\n\\n\\n\\n', metadata={'source': 'https://next-auth.js.org/providers/todoist', 'title': 'Todoist | NextAuth.js', 'description': 'Documentation', 'language': 'en'}),\n",
      " Document(page_content='\\n\\n\\n\\n\\nTesting with Cypress | NextAuth.js\\n\\n\\n\\n\\n\\nSkip to main contentNextAuth.js is becoming Auth.js! 🎉 We\\'re creating Authentication for the Web. Everyone included. You are looking at the NextAuth.js (v4) documentation. For the new documentation go to authjs.dev.NextAuth.jsDocumentationTutorialsFAQSecurityv3v4v3All ReleasesnpmGitHubSearchThis is documentation for NextAuth.js v3, which is no longer actively maintained.For up-to-date documentation, see the latest version (v4).Version: v3On this pageTesting with CypressTo test an implementation of NextAuth.js, we encourage you to use Cypress.Setting up Cypress\\u200bTo get started, install the dependencies:npm install --save-dev cypress cypress-social-logins @testing-library/cypressnoteIf you are using username/password based login, you will not need the cypress-social-login dependency.Cypress will install and initialize the folder structure with example integration tests, a folder for plugins, etc.Next you will have to create some configuration files for Cypress.First, the primary cypress config:cypress.json{  \"baseUrl\": \"http://localhost:3000\",  \"chromeWebSecurity\": false}This initial Cypress config will tell Cypress where to find your site on initial launch as well as allow it to open up URLs at domains that aren\\'t your page, for example to be able to login to a social provider.Second, a cypress file for environment variables. These can be defined in cypress.json under the key env as well, however since we\\'re storing username / passwords in here we should keep those in a separate file and only commit cypress.json to version control, not cypress.env.json.cypress.env.json{  \"GOOGLE_USER\": \"username@company.com\",  \"GOOGLE_PW\": \"password\",  \"COOKIE_NAME\": \"next-auth.session-token\",  \"SITE_NAME\": \"http://localhost:3000\"}You must change the login credentials you want to use, but you can also redefine the name of the GOOGLE_* variables if you\\'re using a different provider. COOKIE_NAME, however, must be set to that value for NextAuth.js.Third, if you\\'re using the cypress-social-login plugin, you must add this to your /cypress/plugins/index.js file like so:cypress/plugins/index.jsconst { GoogleSocialLogin } = require(\"cypress-social-logins\").pluginsmodule.exports = (on, config) => {  on(\"task\", {    GoogleSocialLogin: GoogleSocialLogin,  })}Finally, you can also add the following npm scripts to your package.json:\"test:e2e:open\": \"cypress open\",\"test:e2e:run\": \"cypress run\"Writing a test\\u200bOnce we\\'ve got all that configuration out of the way, we can begin writing tests to login using NextAuth.js.The basic login test looks like this:cypress/integration/login.jsdescribe(\"Login page\", () => {  before(() => {    cy.log(`Visiting https://company.tld`)    cy.visit(\"/\")  })  it(\"Login with Google\", () => {    const username = Cypress.env(\"GOOGLE_USER\")    const password = Cypress.env(\"GOOGLE_PW\")    const loginUrl = Cypress.env(\"SITE_NAME\")    const cookieName = Cypress.env(\"COOKIE_NAME\")    const socialLoginOptions = {      username,      password,      loginUrl,      headless: true,      logs: false,      isPopup: true,      loginSelector: `a[href=\"${Cypress.env(        \"SITE_NAME\"      )}/api/auth/signin/google\"]`,      postLoginSelector: \".unread-count\",    }    return cy      .task(\"GoogleSocialLogin\", socialLoginOptions)      .then(({ cookies }) => {        cy.clearCookies()        const cookie = cookies          .filter((cookie) => cookie.name === cookieName)          .pop()        if (cookie) {          cy.setCookie(cookie.name, cookie.value, {            domain: cookie.domain,            expiry: cookie.expires,            httpOnly: cookie.httpOnly,            path: cookie.path,            secure: cookie.secure,          })          Cypress.Cookies.defaults({            preserve: cookieName,          })          // remove the two lines below if you need to stay logged in          // for your remaining tests          cy.visit(\"/api/auth/signout\")          cy.get(\"form\").submit()        }      })  })})Things to note here include, that you must adjust the CSS selector defined under postLoginSelector to match a selector found on your page after the user is logged in. This is how Cypress knows whether it succeeded or not. Also, if you\\'re using another provider, you will have to adjust the loginSelector URL.Edit this pageLast updated on Apr 17, 2023 by Balázs OrbánSetting up CypressWriting a testAbout NextAuth.jsIntroduction\\n\\n\\nDownloadGitHubNPMAcknowledgementsContributorsSponsorsImages by unDrawNextAuth.js © Iain Collins 2023\\n\\n\\n\\n', metadata={'source': 'https://next-auth.js.org/v3/tutorials/testing-with-cypress', 'title': 'Testing with Cypress | NextAuth.js', 'description': 'To test an implementation of NextAuth.js, we encourage you to use Cypress.', 'language': 'en'})]\n"
     ]
    }
   ],
   "source": [
    "from langchain.document_loaders import WebBaseLoader\n",
    "\n",
    "loader = WebBaseLoader(extracted_urls)\n",
    "loader.requests_per_second = 1\n",
    "docs = loader.aload()\n",
    "\n",
    "print(f'Number of documents loaded: {len(docs)}')\n",
    "pprint(docs[:10])"
   ]
  },
  {
   "attachments": {},
   "cell_type": "markdown",
   "metadata": {},
   "source": [
    "Using tiktoken encoder which is used for OpenAI models along with the Langchain RecursiveCharacterTextSplitter (https://python.langchain.com/en/latest/modules/indexes/text_splitters/examples/recursive_text_splitter.html)"
   ]
  },
  {
   "cell_type": "code",
   "execution_count": 19,
   "metadata": {},
   "outputs": [
    {
     "name": "stdout",
     "output_type": "stream",
     "text": [
      "Number of texts split: 443\n",
      "[Document(page_content='Okta | NextAuth.js\\n\\n\\n\\n\\n\\nSkip to main contentNextAuth.js is becoming Auth.js! 🎉 We\\'re creating Authentication for the Web. Everyone included. You are looking at the NextAuth.js (v4) documentation. For the new documentation go to authjs.dev.NextAuth.jsDocumentationTutorialsFAQSecurityv4v4v3All ReleasesnpmGitHubSearchGetting StartedIntroductionGetting StartedClient APIREST APITypeScriptUpgrade Guide (v4)ConfigurationProviders42 SchoolAppleAtlassianAuth0AuthentikAzure Active Directory B2CAzure Active DirectoryBattle.netBoxBoxyHQ SAMLBungieAmazon CognitoCoinbaseCredentialsDiscordDropboxDuendeIdentityServer6EmailEVE OnlineFacebookFACEITFoursquareFreshbooksFusionAuthGitHubGitLabGoogleHubSpotIdentityServer4OverviewInstagramKakaoKeycloakLINELinkedInMailchimpMail.ruMediumNaverNetlifyOktaOneLoginOssoOsu!PatreonPinterestPipedriveRedditSalesforceSlackSpotifyStravaTodoistTraktTwitchTwitterUnited EffectsVKWikimediaWordPress.comWorkOSYandexZitadelZohoZoomAdaptersWarningsErrorsDeploymentGuidesProvidersOktaVersion: v4On this pageOktaDocumentation\\u200bhttps://developer.okta.com/docs/reference/api/oidcOptions\\u200bThe Okta Provider comes with a set of default options:Okta Provider optionsYou can override any of the options to suit your own use case.Example\\u200bimport OktaProvider from \"next-auth/providers/okta\";...providers: [  OktaProvider({    clientId: process.env.OKTA_CLIENT_ID,    clientSecret: process.env.OKTA_CLIENT_SECRET,    issuer: process.env.OKTA_ISSUER  })]...Edit this pageLast updated on Apr 17, 2023 by Balázs OrbánPreviousNetlifyNextOneLoginDocumentationOptionsExampleAbout NextAuth.jsIntroduction\\n\\n\\nDownloadGitHubNPMAcknowledgementsContributorsSponsorsImages by unDrawNextAuth.js © Iain Collins 2023', metadata={'source': 'https://next-auth.js.org/providers/okta', 'title': 'Okta | NextAuth.js', 'description': 'Documentation', 'language': 'en'}),\n",
      " Document(page_content='MySQL | NextAuth.js', metadata={'source': 'https://next-auth.js.org/v3/adapters/typeorm/mysql', 'title': 'MySQL | NextAuth.js', 'description': 'Schema for a MySQL database.', 'language': 'en'}),\n",
      " Document(page_content=\"Skip to main contentNextAuth.js is becoming Auth.js! 🎉 We're creating Authentication for the Web. Everyone included. You are looking at the NextAuth.js (v4) documentation. For the new documentation go to authjs.dev.NextAuth.jsDocumentationTutorialsFAQSecurityv3v4v3All ReleasesnpmGitHubSearchGetting StartedIntroductionExample CodeClient APIREST APITypeScriptConfigurationDatabase AdaptersOverviewModelsTypeORMOverviewMySQLPostgresMicrosoft SQL ServerMongoDBFaunaDB AdapterPrisma AdapterPrisma Adapter (Legacy)DynamoDB AdapterFirebase AdapterPouchDB AdapterAuthentication ProvidersWarningsErrorsThis is documentation for NextAuth.js v3, which is no longer actively maintained.For up-to-date documentation, see the latest version (v4).Database AdaptersTypeORMMySQLVersion: v3MySQLSchema for a MySQL database.noteWhen using a MySQL database with the default adapter (TypeORM) all timestamp columns use 6 digits of precision (unless another value for precision is specified in the schema) and the timezone is set to Z (aka Zulu Time / UTC) and all timestamps are stored in UTC.CREATE TABLE accounts  (    id                   INT NOT NULL AUTO_INCREMENT,    compound_id          VARCHAR(255) NOT NULL,    user_id              INTEGER NOT NULL,    provider_type        VARCHAR(255) NOT NULL,    provider_id          VARCHAR(255) NOT NULL,    provider_account_id  VARCHAR(255) NOT NULL,    refresh_token        TEXT,    access_token         TEXT,    access_token_expires TIMESTAMP(6),    created_at           TIMESTAMP(6) NOT NULL DEFAULT CURRENT_TIMESTAMP(6),    updated_at           TIMESTAMP(6) NOT NULL DEFAULT CURRENT_TIMESTAMP(6),    PRIMARY KEY (id)  );CREATE TABLE sessions  (    id            INT NOT NULL AUTO_INCREMENT,    user_id       INTEGER NOT NULL,    expires       TIMESTAMP(6) NOT NULL,    session_token VARCHAR(255) NOT NULL,    access_token  VARCHAR(255) NOT NULL,    created_at    TIMESTAMP(6) NOT NULL DEFAULT CURRENT_TIMESTAMP(6),    updated_at    TIMESTAMP(6) NOT NULL DEFAULT CURRENT_TIMESTAMP(6),    PRIMARY KEY (id)  );CREATE TABLE users  (    id             INT NOT NULL AUTO_INCREMENT,\", metadata={'source': 'https://next-auth.js.org/v3/adapters/typeorm/mysql', 'title': 'MySQL | NextAuth.js', 'description': 'Schema for a MySQL database.', 'language': 'en'}),\n",
      " Document(page_content='INT NOT NULL AUTO_INCREMENT,    name           VARCHAR(255),    email          VARCHAR(255),    email_verified TIMESTAMP(6),    image          VARCHAR(255),    created_at     TIMESTAMP(6) NOT NULL DEFAULT CURRENT_TIMESTAMP(6),    updated_at     TIMESTAMP(6) NOT NULL DEFAULT CURRENT_TIMESTAMP(6),    PRIMARY KEY (id)  );CREATE TABLE verification_requests  (    id         INT NOT NULL AUTO_INCREMENT,    identifier VARCHAR(255) NOT NULL,    token      VARCHAR(255) NOT NULL,    expires    TIMESTAMP(6) NOT NULL,    created_at TIMESTAMP(6) NOT NULL DEFAULT CURRENT_TIMESTAMP(6),    updated_at TIMESTAMP(6) NOT NULL DEFAULT CURRENT_TIMESTAMP(6),    PRIMARY KEY (id)  );CREATE UNIQUE INDEX compound_id  ON accounts(compound_id);CREATE INDEX provider_account_id  ON accounts(provider_account_id);CREATE INDEX provider_id  ON accounts(provider_id);CREATE INDEX user_id  ON accounts(user_id);CREATE UNIQUE INDEX session_token  ON sessions(session_token);CREATE UNIQUE INDEX access_token  ON sessions(access_token);CREATE UNIQUE INDEX email  ON users(email);CREATE UNIQUE INDEX token  ON verification_requests(token);Edit this pageLast updated on Apr 17, 2023 by Balázs OrbánPreviousOverviewNextPostgresAbout NextAuth.jsIntroduction', metadata={'source': 'https://next-auth.js.org/v3/adapters/typeorm/mysql', 'title': 'MySQL | NextAuth.js', 'description': 'Schema for a MySQL database.', 'language': 'en'}),\n",
      " Document(page_content='DownloadGitHubNPMAcknowledgementsContributorsSponsorsImages by unDrawNextAuth.js © Iain Collins 2023', metadata={'source': 'https://next-auth.js.org/v3/adapters/typeorm/mysql', 'title': 'MySQL | NextAuth.js', 'description': 'Schema for a MySQL database.', 'language': 'en'}),\n",
      " Document(page_content='Providers | NextAuth.js', metadata={'source': 'https://next-auth.js.org/v3/configuration/providers', 'title': 'Providers | NextAuth.js', 'description': 'Authentication Providers in NextAuth.js are services that can be used to sign in a user.', 'language': 'en'}),\n",
      " Document(page_content=\"Skip to main contentNextAuth.js is becoming Auth.js! 🎉 We're creating Authentication for the Web. Everyone included. You are looking at the NextAuth.js (v4) documentation. For the new documentation go to authjs.dev.NextAuth.jsDocumentationTutorialsFAQSecurityv3v4v3All ReleasesnpmGitHubSearchGetting StartedIntroductionExample CodeClient APIREST APITypeScriptConfigurationOptionsProvidersDatabasesPagesCallbacksEventsDatabase AdaptersAuthentication ProvidersWarningsErrorsThis is documentation for NextAuth.js v3, which is no longer actively maintained.For up-to-date documentation, see the latest version (v4).ConfigurationProvidersVersion: v3On this pageProvidersAuthentication Providers in NextAuth.js are services that can be used to sign in a user.There's four ways a user can be signed in:Using a built-in OAuth Provider (e.g Github, Twitter, Google, etc...)Using a custom OAuth ProviderUsing EmailUsing CredentialsnoteNextAuth.js is designed to work with any OAuth service, it supports OAuth 1.0, 1.0A and 2.0 and has built-in support for most popular sign-in services.OAuth Providers\\u200bAvailable providers\\u200b42 School,Amazon Cognito,Apple,Atlassian,Auth0,Authentik,Azure Active Directory,Azure Active Directory B2C,Battle.net,Box,BoxyHQ SAML,Bungie,Coinbase,Discord,Dropbox,DuendeIdentityServer6,EVE Online,Facebook,FACEIT,Foursquare,Freshbooks,FusionAuth,GitHub,GitLab,Google,HubSpot,IdentityServer4,Instagram,Kakao,Keycloak,LINE,LinkedIn,Mail.ru,Mailchimp,Medium,Naver,Netlify,Okta,OneLogin,Osso,Osu!,Patreon,Pinterest,Pipedrive,Reddit,Salesforce,Slack,Spotify,Strava,Todoist,Trakt,Twitch,Twitter,United Effects,VK,Wikimedia,WordPress.com,WorkOS,Yandex,Zitadel,Zoho,Zoom,How to\\u200bRegister your application at the developer portal of your provider. There are links above to the developer docs for most supported providers with details on how to register your application.The redirect URI should follow this format:[origin]/api/auth/callback/[provider]For example, Twitter on localhost this would be:http://localhost:3000/api/auth/callback/twitterCreate a .env file at the root of your project and add the client ID and client secret. For Twitter this would be:TWITTER_ID=YOUR_TWITTER_CLIENT_IDTWITTER_SECRET=YOUR_TWITTER_CLIENT_SECRETNow you can add the provider settings to the NextAuth.js options object. You can add as many OAuth providers as you like, as you can see providers is an array.pages/api/auth/[...nextauth].jsimport Providers from `next-auth/providers`...providers: [  Providers.Twitter({    clientId: process.env.TWITTER_ID,    clientSecret: process.env.TWITTER_SECRET\", metadata={'source': 'https://next-auth.js.org/v3/configuration/providers', 'title': 'Providers | NextAuth.js', 'description': 'Authentication Providers in NextAuth.js are services that can be used to sign in a user.', 'language': 'en'}),\n",
      " Document(page_content='clientSecret: process.env.TWITTER_SECRET  })],...Once a provider has been setup, you can sign in at the following URL: [origin]/api/auth/signin. This is an unbranded auto-generated page with all the configured providers.Options\\u200bNameDescriptionTypeRequiredidUnique ID for the providerstringYesnameDescriptive name for the providerstringYestypeType of provider, in this case oauth\"oauth\"YesversionOAuth version (e.g. \\'1.0\\', \\'1.0a\\', \\'2.0\\')stringYesscopeOAuth access scopes (expects array or string)string or string[]YesparamsExtra URL params sent when calling accessTokenUrlObjectYesaccessTokenUrlEndpoint to retrieve an access tokenstringYesauthorizationUrlEndpoint to request authorization from the userstringYesrequestTokenUrlEndpoint to retrieve a request tokenstringYesprofileUrlEndpoint to retrieve the user\\'s profilestringYesclientIdClient ID of the OAuth providerstringYesclientSecretClient Secret of the OAuth providerstringYesprofileA callback returning an object with the user\\'s info(profile, tokens) => ObjectYesprotectionAdditional security for OAuth login flows (defaults to state)\"pkce\",\"state\",\"none\"NostateSame as protection: \"state\". Being deprecated, use protection.booleanNoheadersAny headers that should be sent to the OAuth providerObjectNoauthorizationParamsAdditional params to be sent to the authorization endpointObjectNoidTokenSet to true for services that use ID Tokens (e.g. OpenID)booleanNoregionOnly when using BattleNetstringNodomainOnly when using certain ProvidersstringNotenantIdOnly when using Azure, Active Directory, B2C, FusionAuthstringNotipEven if you are using a built-in provider, you can override any of these options to tweak the default configuration.[...nextauth].jsimport Providers from \"next-auth/providers\"Providers.Auth0({  clientId: process.env.CLIENT_ID,  clientSecret: process.env.CLIENT_SECRET,  domain: process.env.DOMAIN,  scope: \"openid your_custom_scope\", // We do provide a default, but this will override it if defined  profile(profile) {    return {} // Return the profile in a shape that is different from the built-in one.  },})Using a custom provider\\u200bYou can use an OAuth provider that isn\\'t built-in by using a custom object.As an example of what this looks like, this is the provider object returned for the Google provider:{  id: \"google\",  name: \"Google\",  type: \"oauth\",  version: \"2.0\",  scope: \"https://www.googleapis.com/auth/userinfo.profile https://www.googleapis.com/auth/userinfo.email\",  params: { grant_type: \"authorization_code\" },  accessTokenUrl: \"https://accounts.google.com/o/oauth2/token\",  requestTokenUrl:', metadata={'source': 'https://next-auth.js.org/v3/configuration/providers', 'title': 'Providers | NextAuth.js', 'description': 'Authentication Providers in NextAuth.js are services that can be used to sign in a user.', 'language': 'en'}),\n",
      " Document(page_content='requestTokenUrl: \"https://accounts.google.com/o/oauth2/auth\",  authorizationUrl: \"https://accounts.google.com/o/oauth2/auth?response_type=code\",  profileUrl: \"https://www.googleapis.com/oauth2/v1/userinfo?alt=json\",  async profile(profile, tokens) {    // You can use the tokens, in case you want to fetch more profile information    // For example several OAuth providers do not return email by default.    // Depending on your provider, will have tokens like `access_token`, `id_token` and or `refresh_token`    return {      id: profile.id,      name: profile.name,      email: profile.email,      image: profile.picture    }  },  clientId: \"\",  clientSecret: \"\"}Replace all the options in this JSON object with the ones from your custom provider - be sure to give it a unique ID and specify the correct OAuth version - and add it to the providers option when initializing the library:pages/api/auth/[...nextauth].jsimport Providers from `next-auth/providers`...providers: [  Providers.Twitter({    clientId: process.env.TWITTER_ID,    clientSecret: process.env.TWITTER_SECRET,  }),  {    id: \\'customProvider\\',    name: \\'CustomProvider\\',    type: \\'oauth\\',    version: \\'2.0\\',    scope: \\'\\'  // Make sure to request the users email address    ...  }]...Adding a new provider\\u200bIf you think your custom provider might be useful to others, we encourage you to open a PR and add it to the built-in list so others can discover it much more easily!You only need to add two changes:Add your config: src/providers/{provider}.js', metadata={'source': 'https://next-auth.js.org/v3/configuration/providers', 'title': 'Providers | NextAuth.js', 'description': 'Authentication Providers in NextAuth.js are services that can be used to sign in a user.', 'language': 'en'}),\n",
      " Document(page_content='• make sure you use a named default export, like this: export default function YourProviderAdd provider documentation: www/docs/providers/{provider}.mdAdd it to our provider types (for TS projects)\\n• you just need to add your new provider name to this list', metadata={'source': 'https://next-auth.js.org/v3/configuration/providers', 'title': 'Providers | NextAuth.js', 'description': 'Authentication Providers in NextAuth.js are services that can be used to sign in a user.', 'language': 'en'})]\n"
     ]
    }
   ],
   "source": [
    "from langchain.text_splitter import RecursiveCharacterTextSplitter\n",
    "\n",
    "text_splitter = RecursiveCharacterTextSplitter.from_tiktoken_encoder(chunk_size=1000, chunk_overlap=20)\n",
    "texts = text_splitter.split_documents(docs)\n",
    "\n",
    "print(f'Number of texts split: {len(texts)}')\n",
    "pprint(texts[:10])"
   ]
  },
  {
   "attachments": {},
   "cell_type": "markdown",
   "metadata": {},
   "source": [
    "Initializing OpenAI Embeddings"
   ]
  },
  {
   "cell_type": "code",
   "execution_count": 20,
   "metadata": {},
   "outputs": [],
   "source": [
    "from langchain.embeddings.openai import OpenAIEmbeddings\n",
    "\n",
    "embeddings = OpenAIEmbeddings()"
   ]
  },
  {
   "attachments": {},
   "cell_type": "markdown",
   "metadata": {},
   "source": [
    "Create embeddings for the split text using OpenAI embedding models and storing them in Qdrant vector database (https://python.langchain.com/en/latest/modules/indexes/vectorstores/examples/qdrant.html)"
   ]
  },
  {
   "cell_type": "code",
   "execution_count": 24,
   "metadata": {},
   "outputs": [
    {
     "name": "stderr",
     "output_type": "stream",
     "text": [
      "Retrying langchain.embeddings.openai.embed_with_retry.<locals>._embed_with_retry in 4.0 seconds as it raised APIConnectionError: Error communicating with OpenAI: HTTPSConnectionPool(host='api.openai.com', port=443): Max retries exceeded with url: /v1/engines/text-embedding-ada-002/embeddings (Caused by SSLError(SSLError(1, '[SSL: SSLV3_ALERT_BAD_RECORD_MAC] sslv3 alert bad record mac (_ssl.c:2536)'))).\n"
     ]
    }
   ],
   "source": [
    "from langchain.vectorstores import Qdrant\n",
    "\n",
    "qdrant_url = \"http://localhost:6333/\"\n",
    "qdrant_port = 6333\n",
    "\n",
    "qdrant = Qdrant.from_documents(documents=texts,\n",
    "                               embedding=embeddings, \n",
    "                               url=qdrant_url, \n",
    "                               collection_name=\"langchain_documents\")"
   ]
  },
  {
   "attachments": {},
   "cell_type": "markdown",
   "metadata": {},
   "source": [
    "Retrieving the documents that may contain answer for the query using the qdrant similarity search"
   ]
  },
  {
   "cell_type": "code",
   "execution_count": 25,
   "metadata": {},
   "outputs": [
    {
     "name": "stdout",
     "output_type": "stream",
     "text": [
      "Securing pages and API routes | NextAuth.js\n",
      "https://next-auth.js.org/tutorials/securing-pages-and-api-routes\n"
     ]
    }
   ],
   "source": [
    "import qdrant_client\n",
    "\n",
    "query = \"How to protect backend API route? Give me code for that.\"\n",
    "\n",
    "found_docs = qdrant.similarity_search(query)\n",
    "print(found_docs[0].page_content)\n",
    "print(found_docs[0].metadata['source'])"
   ]
  },
  {
   "attachments": {},
   "cell_type": "markdown",
   "metadata": {},
   "source": [
    "Initializing the OpenAI LLM"
   ]
  },
  {
   "cell_type": "code",
   "execution_count": 26,
   "metadata": {},
   "outputs": [],
   "source": [
    "from langchain.llms import OpenAI\n",
    "\n",
    "llm = OpenAI(temperature=0, openai_api_key=OPENAI_API_KEY)"
   ]
  },
  {
   "attachments": {},
   "cell_type": "markdown",
   "metadata": {},
   "source": [
    "Creating the Question Answer sources chain using Langchain (https://python.langchain.com/en/latest/modules/chains/index_examples/qa_with_sources.html) to generate the output for the given query using OpenAI"
   ]
  },
  {
   "cell_type": "code",
   "execution_count": 12,
   "metadata": {},
   "outputs": [
    {
     "name": "stdout",
     "output_type": "stream",
     "text": [
      " You can protect API routes using the getSession() method.\n",
      "SOURCES: https://next-auth.js.org/tutorials/securing-pages-and-api-routes\n"
     ]
    }
   ],
   "source": [
    "from langchain.chains.qa_with_sources import load_qa_with_sources_chain\n",
    "\n",
    "chain = load_qa_with_sources_chain(llm=llm, chain_type=\"stuff\")\n",
    "results = chain.run(input_documents=found_docs, question=query)\n",
    "print(results)\n"
   ]
  },
  {
   "attachments": {},
   "cell_type": "markdown",
   "metadata": {},
   "source": [
    " Create the Retriever QA with sources using Langchain (https://python.langchain.com/en/latest/modules/chains/index_examples/vector_db_qa_with_sources.html) to generate the output for the given query using OpenAI"
   ]
  },
  {
   "cell_type": "code",
   "execution_count": 13,
   "metadata": {},
   "outputs": [
    {
     "name": "stdout",
     "output_type": "stream",
     "text": [
      "{'answer': ' You can protect API routes using the getSession() method.\\n', 'sources': 'https://next-auth.js.org/tutorials/securing-pages-and-api-routes'}\n"
     ]
    }
   ],
   "source": [
    "from langchain.chains import RetrievalQAWithSourcesChain\n",
    "\n",
    "chain = RetrievalQAWithSourcesChain.from_chain_type(llm, chain_type=\"stuff\", retriever=qdrant.as_retriever())\n",
    "results = chain({\"question\": query}, return_only_outputs=True)\n",
    "print(results)"
   ]
  },
  {
   "attachments": {},
   "cell_type": "markdown",
   "metadata": {},
   "source": [
    "Create a summarization chain to summarize all the retrieved documents  (https://python.langchain.com/en/latest/modules/chains/index_examples/summarize.html)"
   ]
  },
  {
   "cell_type": "code",
   "execution_count": 38,
   "metadata": {},
   "outputs": [
    {
     "name": "stdout",
     "output_type": "stream",
     "text": [
      "NextAuth.js provides an easy way to secure client and server side rendered pages and API routes. Client side pages can be secured using the useSession React Hook, while server side pages can be secured using the getSession() method. API routes can be secured using the getSession() and getToken() methods. No Code Found.\n"
     ]
    }
   ],
   "source": [
    "from langchain.chains.summarize import load_summarize_chain\n",
    "from langchain.prompts import PromptTemplate\n",
    "\n",
    "\n",
    "prompt_template = \"\"\"Write a concise summary of the following content. \n",
    "If the content has a python code snippet then return the code along with the summary else mention 'No Code Found'\n",
    "\n",
    "Content: {text}\n",
    "\n",
    "Answer:\n",
    "\"\"\"\n",
    "\n",
    "PROMPT = PromptTemplate(template=prompt_template, input_variables=[\"text\"])\n",
    "\n",
    "chain = load_summarize_chain(llm=llm, chain_type=\"stuff\", prompt=PROMPT)\n",
    "# print(chain.prompt)\n",
    "\n",
    "results = chain.run(input_documents=found_docs, return_only_outputs=False)\n",
    "print(results)"
   ]
  },
  {
   "cell_type": "code",
   "execution_count": null,
   "metadata": {},
   "outputs": [],
   "source": []
  }
 ],
 "metadata": {
  "kernelspec": {
   "display_name": "venv",
   "language": "python",
   "name": "python3"
  },
  "language_info": {
   "codemirror_mode": {
    "name": "ipython",
    "version": 3
   },
   "file_extension": ".py",
   "mimetype": "text/x-python",
   "name": "python",
   "nbconvert_exporter": "python",
   "pygments_lexer": "ipython3",
   "version": "3.10.0"
  },
  "orig_nbformat": 4
 },
 "nbformat": 4,
 "nbformat_minor": 2
}
